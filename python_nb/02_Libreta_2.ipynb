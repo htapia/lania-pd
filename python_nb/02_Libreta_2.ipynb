{
 "metadata": {
  "name": ""
 },
 "nbformat": 3,
 "nbformat_minor": 0,
 "worksheets": [
  {
   "cells": [
    {
     "cell_type": "markdown",
     "metadata": {},
     "source": [
      "#Computaci\u00f3n en GPUs con (py)CUDA\n",
      "\n",
      "##Libreta 2. Introducci\u00f3n a CUDA\n",
      "\n",
      "El contenido de esta libreta esta basado en el material del curso __GPU programming using CUDA__ que se encuentra en http://www.bu.edu/pasi/materials/post-pasi-training.\n",
      "\n",
      "###Tabla de Contenidos:\n",
      "\n",
      "1. Modelo de programaci\u00f3n \n",
      "\n",
      "2. Listado CUDA C\n",
      "\n",
      "3. Ejercicios\n",
      "\n",
      "4. Material adicional"
     ]
    },
    {
     "cell_type": "markdown",
     "metadata": {},
     "source": [
      "###1. Modelo de programaci\u00f3n \n",
      "En el modelo de programaci\u00f3n de CUDA consiste en los siguiente pasos de ejecuci\u00f3n:\n",
      "\n",
      "1. Declarar y asignar memoria a variables *__en el__* CPU;\n",
      "\n",
      "2. Asignar memoria __*en el*__ GPU;\n",
      "\n",
      "3. Transferir datos __*desde*__ el CPU *__hacia__* el GPU;\n",
      "\n",
      "4. Ejecutar el *kernel*;\n",
      "\n",
      "5. Transferir datos __*desde*__ el GPU *__hacia__* el CPU;\n",
      "    "
     ]
    },
    {
     "cell_type": "markdown",
     "metadata": {},
     "source": [
      "###2. Listado CUDA C\n",
      "El listado en CUDA C tiene la siguiente estructura general (el listado completo puede consultarse en el material adicional):\n",
      "\n",
      "    __global__ void vecSumGPU(float* A, float* B, float* C, int n)\n",
      "    {\n",
      "        int tid = threadIdx.x + blockDim.x*blockIdx.x; // Usando 1 bloque de hilos\n",
      "        while (tid < N) {\n",
      "            C[tid] = A[tid] + B[tid];\n",
      "        }\n",
      "    }\n",
      "    \n",
      "    int main()\n",
      "    {\n",
      "        ...\n",
      "        // Declaraci\u00f3n de variables en el host\n",
      "        ...\n",
      "        // Declaraci\u00f3n de variables en el GPU\n",
      "        ...\n",
      "        // Transferencia de datos desde el host al GPU\n",
      "        ...\n",
      "        // Ejecuci\u00f3n del kernel\n",
      "        vecSumGPU<<<blocks, 256>>>(A_d, B_d, C_d, n);\n",
      "        ...\n",
      "        // Transferencia de datos desde el GPU al host\n",
      "        ...\n",
      "        // Liberar memoria del GPU\n",
      "    }\n",
      "    \n",
      "Pueden verse varias diferencias con el listado en C tradicional que presentamos en la libreta anterior. Para nuestros prop\u00f3sitos, las m\u00e1s relevantes son la estructura de la funci\u00f3n que realiza las operaciones:\n",
      "\n",
      "    __global__ void vecSumCPU(float* A, float* B, float* C, int n)\n",
      "\n",
      "identificada por la palabra clave\n",
      "\n",
      "    __global__\n",
      "    \n",
      "y que indica que el inicio del llamado _kernel_ en el modelo de programaci\u00f3n de CUDA.\n",
      "\n",
      "La otra caracteristica importante es la estructura del llamado a la ejecuci\u00f3n del _kernel_:\n",
      "\n",
      "    vecSumGPU<<<blocks, 256>>>(A_d, B_d, C_d, n);\n",
      "\n",
      "donde se usa la sintaxis especial \n",
      "\n",
      "    <<<dimBlock,dimThread>>> \n",
      "    \n",
      "despues del nombre del kernel, para indicar el n\u00famero _blocks_ de bloques con _threads_ de ejecucion cada uno, con lo que se especifica cuantos hilos en paralelo ejecutar\u00e1n el _kernel._ \n",
      "\n",
      "La siguiente celda muestra los resultados de ejecutar este programa en CUDA C:"
     ]
    },
    {
     "cell_type": "code",
     "collapsed": false,
     "input": [
      "!nvcc codes/sumVecGPU.cu -o codes/sumVecGPU\n",
      "!codes/sumVecGPU"
     ],
     "language": "python",
     "metadata": {},
     "outputs": [
      {
       "output_type": "stream",
       "stream": "stdout",
       "text": [
        "\r\n",
        "Inicializando...\r\n",
        "Longitud del vector: 10000\r\n",
        "t1 = 0.000187 s\r\n",
        "Asignando memoria en el GPU...\r\n",
        "t2 = 0.043205 s\r\n",
        "Copiando datos desde el host al GPU...\r\n",
        "t3 = 0.000445 s\r\n",
        "Lanzando kernel...\r\n",
        "t4 = 0.000034 s\r\n",
        "Copiando datos desde el GPU al host...\r\n",
        "t5 = 0.000057 s\r\n",
        "PRUEBA SUPERADA\r\n",
        "\r\n",
        "tf = 0.043928 s\r\n"
       ]
      }
     ],
     "prompt_number": 15
    },
    {
     "cell_type": "markdown",
     "metadata": {},
     "source": [
      "Al igual que en la libreta anterior, el programa completo contiene instrucciones adicionales para determinar los tiempos de ejecuci\u00f3n de cada una de las partes relevantes. En este caso, el tiempo total de ejecuci\u00f3n incluye, adem\u00e1s de la asignaci\u00f3n de memoria para las variables en el CPU, la asignaci\u00f3n de memoria para las variables en el GPU, la tranferencia de datos entre CPU/GPU, y la ejecuci\u00f3n del _kernel._ \n",
      "\n",
      "Para vectores de longitud $n=25$, el tiempo de ejecuci\u00f3n en el GPU (NVIDIA QUADRO K400 en Intel(R) Core(TM) i7-3770 CPU @ 3.40GHz con Ubuntu 13.10 (Linux 3.11.0-15-generic x86_64) es de aproximadamente $40-50ms$, mucho mas que el tiempo que le llev\u00f3 realizar la misma operaci\u00f3n en el CPU\n",
      "\n",
      "Es relevante observar que 98% del tiempo de ejecuci\u00f3n en el GPU se emplea en la asignaci\u00f3n de memoria en el GPU, mientras que la ejecuci\u00f3n del kernel y las operaciones ocupan un porcentaje muy bajo del tiempo total."
     ]
    },
    {
     "cell_type": "markdown",
     "metadata": {},
     "source": [
      "###3. Ejercicios\n",
      "Ejecutar el c\u00f3digo para diferentes longitudes de vectores y observar que sucede con los tiempos de ejecuci\u00f3n. Determinar, por ejemplo \n",
      "\n",
      "* si el tiempo de ejecuci\u00f3n total incrementa de manera lineal con el numero de elementos del vector;\n",
      "* que partes de la ejecuci\u00f3n contribuyen m\u00e1s al tiempo total y como depende del num\u00e9ro de elementos;\n",
      "* comparar con los tiempos de ejecuci\u00f3n en el CPU.\n",
      "\n",
      "Se sugiere graficar los resultados en diversos formatos."
     ]
    },
    {
     "cell_type": "markdown",
     "metadata": {},
     "source": [
      "###4. Material adicional\n",
      "Puede encontrarse en el repositorio de estos cuadernos o ejecutando la siguiente celda."
     ]
    },
    {
     "cell_type": "code",
     "collapsed": false,
     "input": [
      "%load codes/sumVecGPU.cu"
     ],
     "language": "python",
     "metadata": {},
     "outputs": [],
     "prompt_number": 8
    },
    {
     "cell_type": "markdown",
     "metadata": {},
     "source": [
      "####GPU programming using CUDA Lecture 1"
     ]
    },
    {
     "cell_type": "code",
     "collapsed": false,
     "input": [
      "from IPython.core.display import HTML\n",
      "HTML(\"<iframe src='http://www.bu.edu/pasi/files/2011/07/Lecture1.pdf' width='750' height='600'></iframe>\")"
     ],
     "language": "python",
     "metadata": {},
     "outputs": [
      {
       "html": [
        "<iframe src='http://www.bu.edu/pasi/files/2011/07/Lecture1.pdf' width='750' height='600'></iframe>"
       ],
       "metadata": {},
       "output_type": "pyout",
       "prompt_number": 17,
       "text": [
        "<IPython.core.display.HTML at 0x3b47610>"
       ]
      }
     ],
     "prompt_number": 17
    },
    {
     "cell_type": "code",
     "collapsed": false,
     "input": [
      "from IPython.core.display import HTML\n",
      "def css_styling():\n",
      "    styles = open(\"./styles/custom.css\", \"r\").read()\n",
      "    return HTML(styles)\n",
      "css_styling()"
     ],
     "language": "python",
     "metadata": {},
     "outputs": [
      {
       "html": [
        "<style>\n",
        "    @font-face {\n",
        "        font-family: \"Computer Modern\";\n",
        "        src: url('http://mirrors.ctan.org/fonts/cm-unicode/fonts/otf/cmunss.otf');\n",
        "    }\n",
        "    div.cell{\n",
        "        width:800px;\n",
        "        margin-left:16% !important;\n",
        "        margin-right:auto;\n",
        "    }\n",
        "    h1 {\n",
        "        font-family: Helvetica, serif;\n",
        "    }\n",
        "    h2 {\n",
        "        font-family: Helvetica, serif;\n",
        "    }\n",
        "    h4{\n",
        "        margin-top:12px;\n",
        "        margin-bottom: 3px;\n",
        "       }\n",
        "    div.text_cell_render{\n",
        "        font-family: Computer Modern, \"Helvetica Neue\", Arial, Helvetica, Geneva, sans-serif;\n",
        "        line-height: 135%;\n",
        "        font-size: 120%;\n",
        "        width:600px;\n",
        "        margin-left:auto;\n",
        "        margin-right:auto;\n",
        "    }\n",
        "    .CodeMirror{\n",
        "            font-family: \"Source Code Pro\", source-code-pro,Consolas, monospace;\n",
        "    }\n",
        "/*    .prompt{\n",
        "        display: None;\n",
        "    }*/\n",
        "    .text_cell_render h5 {\n",
        "        font-weight: 300;\n",
        "        font-size: 16pt;\n",
        "        color: #4057A1;\n",
        "        font-style: italic;\n",
        "        margin-bottom: .5em;\n",
        "        margin-top: 0.5em;\n",
        "        display: block;\n",
        "    }\n",
        "    \n",
        "    .warning{\n",
        "        color: rgb( 240, 20, 20 )\n",
        "        }  \n",
        "</style>\n",
        "<script>\n",
        "    MathJax.Hub.Config({\n",
        "                        TeX: {\n",
        "                           extensions: [\"AMSmath.js\"]\n",
        "                           },\n",
        "                tex2jax: {\n",
        "                    inlineMath: [ ['$','$'], [\"\\\\(\",\"\\\\)\"] ],\n",
        "                    displayMath: [ ['$$','$$'], [\"\\\\[\",\"\\\\]\"] ]\n",
        "                },\n",
        "                displayAlign: 'center', // Change this to 'center' to center equations.\n",
        "                \"HTML-CSS\": {\n",
        "                    styles: {'.MathJax_Display': {\"margin\": 4}}\n",
        "                }\n",
        "        });\n",
        "</script>"
       ],
       "metadata": {},
       "output_type": "pyout",
       "prompt_number": 7,
       "text": [
        "<IPython.core.display.HTML at 0x4b5cf10>"
       ]
      }
     ],
     "prompt_number": 7
    }
   ],
   "metadata": {}
  }
 ]
}