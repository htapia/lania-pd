{
 "metadata": {
  "name": ""
 },
 "nbformat": 3,
 "nbformat_minor": 0,
 "worksheets": [
  {
   "cells": [
    {
     "cell_type": "markdown",
     "metadata": {},
     "source": [
      "#Computaci\u00f3n en GPUs con (py)CUDA\n",
      "\n",
      "##Libreta 4. Introducci\u00f3n a Python\n",
      "\n",
      "Parte del contenido de esta libreta se basa en el curso __CFD Python: 12 steps to Navier-Stokes__ que se encuentra en http://lorenabarba.com/blog/cfd-python-12-steps-to-navier-stokes.\n",
      "\n",
      "###Tabla de Contenidos:\n",
      "\n",
      "1. Operaciones con arreglos usando NumPy\n",
      "\n",
      "2. Medici\u00f3n de tiempos de ejecuci\u00f3n"
     ]
    },
    {
     "cell_type": "markdown",
     "metadata": {},
     "source": [
      "###1. Operaciones con arreglos usando NumPy\n",
      "\n",
      "En la libreta anterior resolvimos el problema de discretizar la ecuaci\u00f3n de convecci\u00f3n en 1D usando diferencias finitas y calcular la evoluci\u00f3n de una onda inicial con forma escalonada a trav\u00e9s del tiempo y en el espacio. Mencionamos que la implementaci\u00f3n recursiva resulta ser ineficiente, y en esta libreta abordaremos este comentario.\n",
      "\n",
      "En esta libreta evaluaremos que tanto se puede aumentar la rapidez de ejecuci\u00f3n para programas computacionalmente intensos al hacer uso de las funciones incluidas en NumPy. Como un ejemplo consideremos la siguiente ecuaci\u00f3n:\n",
      "\n",
      "$$u^{n+1}_i = u^n_i - u^n_{i-1}$$\n",
      "\n",
      "Dado un vector $u^n=[0,1,2,3,4,5]$ podemos calcular los valores de $u^{n+1}$ iterando sobre los valores de $u^n$ con un `for`. Comenzamos por importar la librer\u00eda de NumPy."
     ]
    },
    {
     "cell_type": "code",
     "collapsed": false,
     "input": [
      "import numpy as np"
     ],
     "language": "python",
     "metadata": {},
     "outputs": [],
     "prompt_number": 3
    },
    {
     "cell_type": "code",
     "collapsed": false,
     "input": [
      "u = np.array([0,1,2,3,4,5])\n",
      "\n",
      "for i in range(1,len(u)):\n",
      "    print u[i]-u[i-1]"
     ],
     "language": "python",
     "metadata": {},
     "outputs": [
      {
       "output_type": "stream",
       "stream": "stdout",
       "text": [
        "1\n",
        "1\n",
        "1\n",
        "1\n",
        "1\n"
       ]
      }
     ],
     "prompt_number": 5
    },
    {
     "cell_type": "markdown",
     "metadata": {},
     "source": [
      "Este resultado, esperado, se ha obtenido casi de manera instant\u00e1nea. Si realizaramos la misma operaci\u00f3n usando operaciones entre arreglos, podemos obtener el mismo resultado en un solo comando en lugar de calcular $u^n_i - u^n_{i-1}$ 5 veces por separado:"
     ]
    },
    {
     "cell_type": "code",
     "collapsed": false,
     "input": [
      "u[1:]-u[0:-1]"
     ],
     "language": "python",
     "metadata": {},
     "outputs": [
      {
       "metadata": {},
       "output_type": "pyout",
       "prompt_number": 6,
       "text": [
        "array([1, 1, 1, 1, 1])"
       ]
      }
     ],
     "prompt_number": 6
    },
    {
     "cell_type": "markdown",
     "metadata": {},
     "source": [
      "Lo que este comando esta realizando es sustraer los elementos 0, 1, 2, 3 y 4 de $u$ de los elementos 1, 2, 3, 4 y 5 de $u$:"
     ]
    },
    {
     "cell_type": "code",
     "collapsed": false,
     "input": [
      "print u[1:]\n",
      "print u[0:-1]"
     ],
     "language": "python",
     "metadata": {},
     "outputs": [
      {
       "output_type": "stream",
       "stream": "stdout",
       "text": [
        "[1 2 3 4 5]\n",
        "[0 1 2 3 4]\n"
       ]
      }
     ],
     "prompt_number": 10
    },
    {
     "cell_type": "markdown",
     "metadata": {},
     "source": [
      "###2. Medici\u00f3n de tiempos de ejecuci\u00f3n\n",
      "\n",
      "Para arreglos de 6 elementos, el beneficio del uso de operaciones entre arreglos es practicamente nulo; no habr\u00e1 diferencias apreciables en los tiempos de ejecuci\u00f3n porque se estan realizando muy pocas operaciones. Si revisitamos nuestro problema de la libreta anterior, con algunas modificaciones al n\u00famero de puntos de la malla y el tiempo, podemos observar un aumento sustancial en la rapidez."
     ]
    },
    {
     "cell_type": "code",
     "collapsed": false,
     "input": [
      "nx = 81\n",
      "nt = 100\n",
      "c = 1\n",
      "dx = 2.0/(nx-1)\n",
      "sigma = .2\n",
      "dt = sigma*dx\n",
      "\n",
      "x = np.linspace(0,2,nx)\n",
      "\n",
      "u = np.ones(nx)\n",
      "un = np.ones(nx)\n",
      "\n",
      "u[0.5/dx : 1/dx+1] = 2"
     ],
     "language": "python",
     "metadata": {},
     "outputs": [],
     "prompt_number": 11
    },
    {
     "cell_type": "markdown",
     "metadata": {},
     "source": [
      "Ahora ejecutamos el mismo proceso iterativo utilizando una funci\u00f3n de Python para medir el tiempo. \n",
      "\n",
      "**Nota**-La funci\u00f3n `%%timeit` ejecuta el c\u00f3digo m\u00faltiples veces y arroja un promedio del tiempo de ejecuci\u00f3n."
     ]
    },
    {
     "cell_type": "code",
     "collapsed": false,
     "input": [
      "%%timeit \n",
      "\n",
      "u = np.ones(nx)\n",
      "u[0.5/dx : 1/dx+1] = 2\n",
      "\n",
      "for n in range(nt):\n",
      "    un = u.copy()\n",
      "    for i in range(1,nx):\n",
      "        u[i] = un[i] - c*dt/dx*(un[i]-un[i-1])\n"
     ],
     "language": "python",
     "metadata": {},
     "outputs": [
      {
       "output_type": "stream",
       "stream": "stdout",
       "text": [
        "100 loops, best of 3: 7.87 ms per loop\n"
       ]
      }
     ],
     "prompt_number": 16
    },
    {
     "cell_type": "markdown",
     "metadata": {},
     "source": [
      "Con esta implementaci\u00f3n el mejor tiempo de ejecuci\u00f3n es de 7 milisegundos (muy por debajo de lo que podemos percibir con nuestros sentidos). Es importante tomar en cuenta que los comandos dentro del loop de __i__ se evaluan cerca del 8000 veces. Comparemos el tiempo de ejecuci\u00f3n usando operaciones entre arreglos:"
     ]
    },
    {
     "cell_type": "code",
     "collapsed": false,
     "input": [
      "%%timeit \n",
      "\n",
      "u = np.ones(nx)\n",
      "u[0.5/dx : 1/dx+1] = 2\n",
      "\n",
      "for n in range(nt):\n",
      "    un = u.copy()\n",
      "    u[1:] = un[1:] - c*dt/dx*(un[1:]-un[0:-1])"
     ],
     "language": "python",
     "metadata": {},
     "outputs": [
      {
       "output_type": "stream",
       "stream": "stdout",
       "text": [
        "1000 loops, best of 3: 610 \u00b5s per loop\n"
       ]
      }
     ],
     "prompt_number": 18
    },
    {
     "cell_type": "markdown",
     "metadata": {},
     "source": [
      "Como puede verse, el mismo c\u00e1lculo va de 7.87 _mili_ segundos a 610 _micro_ segundos. Claramente 8 milisegundos no es una gran cantidad de tiempo, pero esta ganancia en tiempo aumenta exponencialmente con el tama\u00f1o y la complejidad del problema."
     ]
    },
    {
     "cell_type": "code",
     "collapsed": false,
     "input": [
      "from IPython.core.display import HTML\n",
      "def css_styling():\n",
      "    styles = open(\"./styles/custom.css\", \"r\").read()\n",
      "    return HTML(styles)\n",
      "css_styling()"
     ],
     "language": "python",
     "metadata": {},
     "outputs": [
      {
       "html": [
        "<style>\n",
        "    @font-face {\n",
        "        font-family: \"Computer Modern\";\n",
        "        src: url('http://mirrors.ctan.org/fonts/cm-unicode/fonts/otf/cmunss.otf');\n",
        "    }\n",
        "    div.cell{\n",
        "        width:800px;\n",
        "        margin-left:16% !important;\n",
        "        margin-right:auto;\n",
        "    }\n",
        "    h1 {\n",
        "        font-family: Helvetica, serif;\n",
        "    }\n",
        "    h2 {\n",
        "        font-family: Helvetica, serif;\n",
        "    }\n",
        "    h4{\n",
        "        margin-top:12px;\n",
        "        margin-bottom: 3px;\n",
        "       }\n",
        "    div.text_cell_render{\n",
        "        font-family: Computer Modern, \"Helvetica Neue\", Arial, Helvetica, Geneva, sans-serif;\n",
        "        line-height: 135%;\n",
        "        font-size: 120%;\n",
        "        width:600px;\n",
        "        margin-left:auto;\n",
        "        margin-right:auto;\n",
        "    }\n",
        "    .CodeMirror{\n",
        "            font-family: \"Source Code Pro\", source-code-pro,Consolas, monospace;\n",
        "    }\n",
        "/*    .prompt{\n",
        "        display: None;\n",
        "    }*/\n",
        "    .text_cell_render h5 {\n",
        "        font-weight: 300;\n",
        "        font-size: 16pt;\n",
        "        color: #4057A1;\n",
        "        font-style: italic;\n",
        "        margin-bottom: .5em;\n",
        "        margin-top: 0.5em;\n",
        "        display: block;\n",
        "    }\n",
        "    \n",
        "    .warning{\n",
        "        color: rgb( 240, 20, 20 )\n",
        "        }  \n",
        "</style>\n",
        "<script>\n",
        "    MathJax.Hub.Config({\n",
        "                        TeX: {\n",
        "                           extensions: [\"AMSmath.js\"]\n",
        "                           },\n",
        "                tex2jax: {\n",
        "                    inlineMath: [ ['$','$'], [\"\\\\(\",\"\\\\)\"] ],\n",
        "                    displayMath: [ ['$$','$$'], [\"\\\\[\",\"\\\\]\"] ]\n",
        "                },\n",
        "                displayAlign: 'center', // Change this to 'center' to center equations.\n",
        "                \"HTML-CSS\": {\n",
        "                    styles: {'.MathJax_Display': {\"margin\": 4}}\n",
        "                }\n",
        "        });\n",
        "</script>"
       ],
       "metadata": {},
       "output_type": "pyout",
       "prompt_number": 7,
       "text": [
        "<IPython.core.display.HTML at 0x4b5cf10>"
       ]
      }
     ],
     "prompt_number": 7
    }
   ],
   "metadata": {}
  }
 ]
}