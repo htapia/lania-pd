{
 "metadata": {
  "name": ""
 },
 "nbformat": 3,
 "nbformat_minor": 0,
 "worksheets": [
  {
   "cells": [
    {
     "cell_type": "heading",
     "level": 1,
     "metadata": {},
     "source": [
      "PyCUDA"
     ]
    },
    {
     "cell_type": "heading",
     "level": 2,
     "metadata": {},
     "source": [
      "Device properties (device_query)"
     ]
    },
    {
     "cell_type": "markdown",
     "metadata": {},
     "source": [
      "This notebook implements http://wiki.tiker.net/PyCuda/Examples/DumpProperties"
     ]
    },
    {
     "cell_type": "markdown",
     "metadata": {},
     "source": [
      "To be able to use PyCUDA we need to first import it:"
     ]
    },
    {
     "cell_type": "code",
     "collapsed": false,
     "input": [
      "import pycuda.driver as cuda"
     ],
     "language": "python",
     "metadata": {},
     "outputs": [],
     "prompt_number": 1
    },
    {
     "cell_type": "markdown",
     "metadata": {},
     "source": [
      "and initialize it:"
     ]
    },
    {
     "cell_type": "code",
     "collapsed": false,
     "input": [
      "cuda.init()"
     ],
     "language": "python",
     "metadata": {},
     "outputs": [],
     "prompt_number": 2
    },
    {
     "cell_type": "markdown",
     "metadata": {},
     "source": [
      "Let's start by finding the properties of the installed device."
     ]
    },
    {
     "cell_type": "code",
     "collapsed": false,
     "input": [
      "print \"%d device(s) found\" % cuda.Device.count()"
     ],
     "language": "python",
     "metadata": {},
     "outputs": [
      {
       "output_type": "stream",
       "stream": "stdout",
       "text": [
        "1 device(s) found\n"
       ]
      }
     ],
     "prompt_number": 3
    },
    {
     "cell_type": "code",
     "collapsed": true,
     "input": [
      "for orden in range(cuda.Device.count()):\n",
      "    dev = cuda.Device(orden)\n",
      "    print \"Device #%d: %s\" % (orden, dev.name())\n",
      "    print \" Compute capability: %d.%d\" % dev.compute_capability()\n",
      "    print \" Total memory %d KB\" % (dev.total_memory()//(1024))\n",
      "    atts = [(str(att), value)\n",
      "        for att, value in dev.get_attributes().iteritems()]\n",
      "    atts.sort()\n",
      "    \n",
      "    for att, value in atts:\n",
      "        print \" %s: %s\" % (att, value)"
     ],
     "language": "python",
     "metadata": {},
     "outputs": [
      {
       "output_type": "stream",
       "stream": "stdout",
       "text": [
        "Device #0: Quadro K4000\n",
        " Compute capability: 3.0\n",
        " Total memory 3145408 KB\n",
        " ASYNC_ENGINE_COUNT: 1\n",
        " CAN_MAP_HOST_MEMORY: 1\n",
        " CLOCK_RATE: 810500\n",
        " COMPUTE_MODE: DEFAULT\n",
        " CONCURRENT_KERNELS: 1\n",
        " ECC_ENABLED: 0\n",
        " GLOBAL_MEMORY_BUS_WIDTH: 192\n",
        " GPU_OVERLAP: 1\n",
        " INTEGRATED: 0\n",
        " KERNEL_EXEC_TIMEOUT: 1\n",
        " L2_CACHE_SIZE: 393216\n",
        " MAXIMUM_SURFACE1D_LAYERED_LAYERS: 2048\n",
        " MAXIMUM_SURFACE1D_LAYERED_WIDTH: 65536\n",
        " MAXIMUM_SURFACE1D_WIDTH: 65536\n",
        " MAXIMUM_SURFACE2D_HEIGHT: 32768\n",
        " MAXIMUM_SURFACE2D_LAYERED_HEIGHT: 32768\n",
        " MAXIMUM_SURFACE2D_LAYERED_LAYERS: 2048\n",
        " MAXIMUM_SURFACE2D_LAYERED_WIDTH: 65536\n",
        " MAXIMUM_SURFACE2D_WIDTH: 65536\n",
        " MAXIMUM_SURFACE3D_DEPTH: 2048\n",
        " MAXIMUM_SURFACE3D_HEIGHT: 32768\n",
        " MAXIMUM_SURFACE3D_WIDTH: 65536\n",
        " MAXIMUM_SURFACECUBEMAP_LAYERED_LAYERS: 2046\n",
        " MAXIMUM_SURFACECUBEMAP_LAYERED_WIDTH: 32768\n",
        " MAXIMUM_SURFACECUBEMAP_WIDTH: 32768\n",
        " MAXIMUM_TEXTURE1D_LAYERED_LAYERS: 2048\n",
        " MAXIMUM_TEXTURE1D_LAYERED_WIDTH: 16384\n",
        " MAXIMUM_TEXTURE1D_LINEAR_WIDTH: 134217728\n",
        " MAXIMUM_TEXTURE1D_WIDTH: 65536\n",
        " MAXIMUM_TEXTURE2D_ARRAY_HEIGHT: 16384\n",
        " MAXIMUM_TEXTURE2D_ARRAY_NUMSLICES: 2048\n",
        " MAXIMUM_TEXTURE2D_ARRAY_WIDTH: 16384\n",
        " MAXIMUM_TEXTURE2D_GATHER_HEIGHT: 16384\n",
        " MAXIMUM_TEXTURE2D_GATHER_WIDTH: 16384\n",
        " MAXIMUM_TEXTURE2D_HEIGHT: 65536\n",
        " MAXIMUM_TEXTURE2D_LINEAR_HEIGHT: 65000\n",
        " MAXIMUM_TEXTURE2D_LINEAR_PITCH: 1048544\n",
        " MAXIMUM_TEXTURE2D_LINEAR_WIDTH: 65000\n",
        " MAXIMUM_TEXTURE2D_WIDTH: 65536\n",
        " MAXIMUM_TEXTURE3D_DEPTH: 4096\n",
        " MAXIMUM_TEXTURE3D_DEPTH_ALTERNATE: 16384\n",
        " MAXIMUM_TEXTURE3D_HEIGHT: 4096\n",
        " MAXIMUM_TEXTURE3D_HEIGHT_ALTERNATE: 2048\n",
        " MAXIMUM_TEXTURE3D_WIDTH: 4096\n",
        " MAXIMUM_TEXTURE3D_WIDTH_ALTERNATE: 2048\n",
        " MAXIMUM_TEXTURECUBEMAP_LAYERED_LAYERS: 2046\n",
        " MAXIMUM_TEXTURECUBEMAP_LAYERED_WIDTH: 16384\n",
        " MAXIMUM_TEXTURECUBEMAP_WIDTH: 16384\n",
        " MAX_BLOCK_DIM_X: 1024\n",
        " MAX_BLOCK_DIM_Y: 1024\n",
        " MAX_BLOCK_DIM_Z: 64\n",
        " MAX_GRID_DIM_X: 2147483647\n",
        " MAX_GRID_DIM_Y: 65535\n",
        " MAX_GRID_DIM_Z: 65535\n",
        " MAX_PITCH: 2147483647\n",
        " MAX_REGISTERS_PER_BLOCK: 65536\n",
        " MAX_SHARED_MEMORY_PER_BLOCK: 49152\n",
        " MAX_THREADS_PER_BLOCK: 1024\n",
        " MAX_THREADS_PER_MULTIPROCESSOR: 2048\n",
        " MEMORY_CLOCK_RATE: 2808000\n",
        " MULTIPROCESSOR_COUNT: 4\n",
        " PCI_BUS_ID: 1\n",
        " PCI_DEVICE_ID: 0\n",
        " PCI_DOMAIN_ID: 0\n",
        " SURFACE_ALIGNMENT: 512\n",
        " TCC_DRIVER: 0\n",
        " TEXTURE_ALIGNMENT: 512\n",
        " TEXTURE_PITCH_ALIGNMENT: 32\n",
        " TOTAL_CONSTANT_MEMORY: 65536\n",
        " UNIFIED_ADDRESSING: 1\n",
        " WARP_SIZE: 32\n"
       ]
      }
     ],
     "prompt_number": 4
    },
    {
     "cell_type": "markdown",
     "metadata": {},
     "source": [
      "This can also be run directly from a script file:"
     ]
    },
    {
     "cell_type": "code",
     "collapsed": false,
     "input": [
      "%run ~/projects/pycuda/examples/dump_properties.py"
     ],
     "language": "python",
     "metadata": {},
     "outputs": [
      {
       "output_type": "stream",
       "stream": "stdout",
       "text": [
        "1 device(s) found.\n",
        "Device #0: Quadro K4000\n",
        "  Compute Capability: 3.0\n",
        "  Total Memory: 3145408 KB\n",
        "  ASYNC_ENGINE_COUNT: 1\n",
        "  CAN_MAP_HOST_MEMORY: 1\n",
        "  CLOCK_RATE: 810500\n",
        "  COMPUTE_MODE: DEFAULT\n",
        "  CONCURRENT_KERNELS: 1\n",
        "  ECC_ENABLED: 0\n",
        "  GLOBAL_MEMORY_BUS_WIDTH: 192\n",
        "  GPU_OVERLAP: 1\n",
        "  INTEGRATED: 0\n",
        "  KERNEL_EXEC_TIMEOUT: 1\n",
        "  L2_CACHE_SIZE: 393216\n",
        "  MAXIMUM_SURFACE1D_LAYERED_LAYERS: 2048\n",
        "  MAXIMUM_SURFACE1D_LAYERED_WIDTH: 65536\n",
        "  MAXIMUM_SURFACE1D_WIDTH: 65536\n",
        "  MAXIMUM_SURFACE2D_HEIGHT: 32768\n",
        "  MAXIMUM_SURFACE2D_LAYERED_HEIGHT: 32768\n",
        "  MAXIMUM_SURFACE2D_LAYERED_LAYERS: 2048\n",
        "  MAXIMUM_SURFACE2D_LAYERED_WIDTH: 65536\n",
        "  MAXIMUM_SURFACE2D_WIDTH: 65536\n",
        "  MAXIMUM_SURFACE3D_DEPTH: 2048\n",
        "  MAXIMUM_SURFACE3D_HEIGHT: 32768\n",
        "  MAXIMUM_SURFACE3D_WIDTH: 65536\n",
        "  MAXIMUM_SURFACECUBEMAP_LAYERED_LAYERS: 2046\n",
        "  MAXIMUM_SURFACECUBEMAP_LAYERED_WIDTH: 32768\n",
        "  MAXIMUM_SURFACECUBEMAP_WIDTH: 32768\n",
        "  MAXIMUM_TEXTURE1D_LAYERED_LAYERS: 2048\n",
        "  MAXIMUM_TEXTURE1D_LAYERED_WIDTH: 16384\n",
        "  MAXIMUM_TEXTURE1D_LINEAR_WIDTH: 134217728\n",
        "  MAXIMUM_TEXTURE1D_WIDTH: 65536\n",
        "  MAXIMUM_TEXTURE2D_ARRAY_HEIGHT: 16384\n",
        "  MAXIMUM_TEXTURE2D_ARRAY_NUMSLICES: 2048\n",
        "  MAXIMUM_TEXTURE2D_ARRAY_WIDTH: 16384\n",
        "  MAXIMUM_TEXTURE2D_GATHER_HEIGHT: 16384\n",
        "  MAXIMUM_TEXTURE2D_GATHER_WIDTH: 16384\n",
        "  MAXIMUM_TEXTURE2D_HEIGHT: 65536\n",
        "  MAXIMUM_TEXTURE2D_LINEAR_HEIGHT: 65000\n",
        "  MAXIMUM_TEXTURE2D_LINEAR_PITCH: 1048544\n",
        "  MAXIMUM_TEXTURE2D_LINEAR_WIDTH: 65000\n",
        "  MAXIMUM_TEXTURE2D_WIDTH: 65536\n",
        "  MAXIMUM_TEXTURE3D_DEPTH: 4096\n",
        "  MAXIMUM_TEXTURE3D_DEPTH_ALTERNATE: 16384\n",
        "  MAXIMUM_TEXTURE3D_HEIGHT: 4096\n",
        "  MAXIMUM_TEXTURE3D_HEIGHT_ALTERNATE: 2048\n",
        "  MAXIMUM_TEXTURE3D_WIDTH: 4096\n",
        "  MAXIMUM_TEXTURE3D_WIDTH_ALTERNATE: 2048\n",
        "  MAXIMUM_TEXTURECUBEMAP_LAYERED_LAYERS: 2046\n",
        "  MAXIMUM_TEXTURECUBEMAP_LAYERED_WIDTH: 16384\n",
        "  MAXIMUM_TEXTURECUBEMAP_WIDTH: 16384\n",
        "  MAX_BLOCK_DIM_X: 1024\n",
        "  MAX_BLOCK_DIM_Y: 1024\n",
        "  MAX_BLOCK_DIM_Z: 64\n",
        "  MAX_GRID_DIM_X: 2147483647\n",
        "  MAX_GRID_DIM_Y: 65535\n",
        "  MAX_GRID_DIM_Z: 65535\n",
        "  MAX_PITCH: 2147483647\n",
        "  MAX_REGISTERS_PER_BLOCK: 65536\n",
        "  MAX_SHARED_MEMORY_PER_BLOCK: 49152\n",
        "  MAX_THREADS_PER_BLOCK: 1024\n",
        "  MAX_THREADS_PER_MULTIPROCESSOR: 2048\n",
        "  MEMORY_CLOCK_RATE: 2808000\n",
        "  MULTIPROCESSOR_COUNT: 4\n",
        "  PCI_BUS_ID: 1\n",
        "  PCI_DEVICE_ID: 0\n",
        "  PCI_DOMAIN_ID: 0\n",
        "  SURFACE_ALIGNMENT: 512\n",
        "  TCC_DRIVER: 0\n",
        "  TEXTURE_ALIGNMENT: 512\n",
        "  TEXTURE_PITCH_ALIGNMENT: 32\n",
        "  TOTAL_CONSTANT_MEMORY: 65536\n",
        "  UNIFIED_ADDRESSING: 1\n",
        "  WARP_SIZE: 32\n"
       ]
      }
     ],
     "prompt_number": 29
    },
    {
     "cell_type": "code",
     "collapsed": false,
     "input": [
      "from IPython.core.display import HTML\n",
      "def css_styling():\n",
      "    styles = open(\"./styles/custom.css\", \"r\").read()\n",
      "    return HTML(styles)\n",
      "css_styling()"
     ],
     "language": "python",
     "metadata": {},
     "outputs": [
      {
       "html": [
        "<style>\n",
        "    @font-face {\n",
        "        font-family: \"Computer Modern\";\n",
        "        src: url('http://mirrors.ctan.org/fonts/cm-unicode/fonts/otf/cmunss.otf');\n",
        "    }\n",
        "    div.cell{\n",
        "        width:800px;\n",
        "        margin-left:16% !important;\n",
        "        margin-right:auto;\n",
        "    }\n",
        "    h1 {\n",
        "        font-family: Helvetica, serif;\n",
        "    }\n",
        "    h2 {\n",
        "        font-family: Helvetica, serif;\n",
        "    }\n",
        "    h4{\n",
        "        margin-top:12px;\n",
        "        margin-bottom: 3px;\n",
        "       }\n",
        "    div.text_cell_render{\n",
        "        font-family: Computer Modern, \"Helvetica Neue\", Arial, Helvetica, Geneva, sans-serif;\n",
        "        line-height: 135%;\n",
        "        font-size: 120%;\n",
        "        width:600px;\n",
        "        margin-left:auto;\n",
        "        margin-right:auto;\n",
        "    }\n",
        "    .CodeMirror{\n",
        "            font-family: \"Source Code Pro\", source-code-pro,Consolas, monospace;\n",
        "    }\n",
        "/*    .prompt{\n",
        "        display: None;\n",
        "    }*/\n",
        "    .text_cell_render h5 {\n",
        "        font-weight: 300;\n",
        "        font-size: 16pt;\n",
        "        color: #4057A1;\n",
        "        font-style: italic;\n",
        "        margin-bottom: .5em;\n",
        "        margin-top: 0.5em;\n",
        "        display: block;\n",
        "    }\n",
        "    \n",
        "    .warning{\n",
        "        color: rgb( 240, 20, 20 )\n",
        "        }  \n",
        "</style>\n",
        "<script>\n",
        "    MathJax.Hub.Config({\n",
        "                        TeX: {\n",
        "                           extensions: [\"AMSmath.js\"]\n",
        "                           },\n",
        "                tex2jax: {\n",
        "                    inlineMath: [ ['$','$'], [\"\\\\(\",\"\\\\)\"] ],\n",
        "                    displayMath: [ ['$$','$$'], [\"\\\\[\",\"\\\\]\"] ]\n",
        "                },\n",
        "                displayAlign: 'center', // Change this to 'center' to center equations.\n",
        "                \"HTML-CSS\": {\n",
        "                    styles: {'.MathJax_Display': {\"margin\": 4}}\n",
        "                }\n",
        "        });\n",
        "</script>"
       ],
       "metadata": {},
       "output_type": "pyout",
       "prompt_number": 4,
       "text": [
        "<IPython.core.display.HTML at 0x3555dd0>"
       ]
      }
     ],
     "prompt_number": 4
    }
   ],
   "metadata": {}
  }
 ]
}