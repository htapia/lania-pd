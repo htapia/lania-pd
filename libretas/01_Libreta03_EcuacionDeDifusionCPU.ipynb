{
 "metadata": {
  "name": "",
  "signature": "sha256:b2558cad0055d6f577596236f4f5fdfdef14b833e61337f3ba135ed15638a56d"
 },
 "nbformat": 3,
 "nbformat_minor": 0,
 "worksheets": [
  {
   "cells": [
    {
     "cell_type": "code",
     "collapsed": false,
     "input": [
      "import time\n",
      "import numpy as np\n",
      "import matplotlib.pyplot as plt\n",
      "from diffuse import *\n",
      "%matplotlib inline"
     ],
     "language": "python",
     "metadata": {},
     "outputs": [],
     "prompt_number": 6
    },
    {
     "cell_type": "markdown",
     "metadata": {},
     "source": [
      "# Ecuaci\u00f3n de Difusi\u00f3n\n",
      "[Enlace a Libreta] (http://nbviewer.ipython.org/github/htapia/lania-pd/blob/master/01_Libreta02_EcuacionDeDifusion.ipynb)\n",
      "\n",
      "## Objetivo:\n",
      "1. Comparar el tiempo de ejecuci\u00f3n del CPU entre lenguajes de programaci\u00f3n de un programa serial que calcula la soluci\u00f3n num\u00e9rica a la discretizaci\u00f3n de la ecuaci\u00f3n de difusi\u00f3n en 2D.\n",
      "\n",
      "## Metodologia\n",
      "Teniendo la implementaci\u00f3n de la soluci\u00f3n num\u00e9rica a la discretizaci\u00f3n de la ecuaci\u00f3n de difusi\u00f3n en 2D en el CPU con dos lenguajes de programaci\u00f3n, comparamos directamente los tiempos de ejecuci\u00f3n entre ellos para diferentes tama\u00f1os de la malla. Para realizar estas comparaciones se ha escrito un programa en Python que puede ser ejecutado directamente, el c\u00f3digo de este programa puede consultarse en la ruta `../diffuse.py` (Es importante que este programa se encuentre en el mismo directorio que esta libreta). Este programa realiza la misma funci\u00f3n que su contraparte de C que puede consultarse en la ruta  `../codes/diffuseCPU.cu`, con la diference se ejecuta pasando como argumento el arreglo donde se colocar\u00e1 la soluci\u00f3n. Esta funci\u00f3n regresa el arreglo con la soluci\u00f3n final obtenida despu\u00e9s de 40000 pasos de tiempo."
     ]
    },
    {
     "cell_type": "code",
     "collapsed": false,
     "input": [
      "# Ejemplo de uso de diffuse_python\n",
      "gs = 64               # tama\u00f1o de malla\n",
      "u = np.zeros((gs,gs)) # arreglo de soluci\u00f3n\n",
      "diffuse_python(u)"
     ],
     "language": "python",
     "metadata": {},
     "outputs": [
      {
       "metadata": {},
       "output_type": "pyout",
       "prompt_number": 11,
       "text": [
        "array([[  2.00000000e+02,   2.00000000e+02,   2.00000000e+02, ...,\n",
        "          2.00000000e+02,   2.00000000e+02,   0.00000000e+00],\n",
        "       [  2.00000000e+02,   1.99239578e+02,   1.98483697e+02, ...,\n",
        "          1.38771285e+02,   9.96198016e+01,   0.00000000e+00],\n",
        "       [  2.00000000e+02,   1.98483697e+02,   1.96976449e+02, ...,\n",
        "          9.84882786e+01,   5.97124639e+01,   0.00000000e+00],\n",
        "       ..., \n",
        "       [  2.00000000e+02,   1.38771285e+02,   9.84882786e+01, ...,\n",
        "          1.07989059e-04,   5.24072529e-05,   0.00000000e+00],\n",
        "       [  2.00000000e+02,   9.96198016e+01,   5.97124639e+01, ...,\n",
        "          5.24072529e-05,   2.54043918e-05,   0.00000000e+00],\n",
        "       [  2.00000000e+02,   0.00000000e+00,   0.00000000e+00, ...,\n",
        "          0.00000000e+00,   0.00000000e+00,   0.00000000e+00]])"
       ]
      }
     ],
     "prompt_number": 11
    },
    {
     "cell_type": "markdown",
     "metadata": {},
     "source": [
      "Tenemos las herramients para compara entre lenguajes, utilizando el CPU de manera serial. Veamos sus tiempos de ejecuci\u00f3n (**Nota:** dependiendo del sistema, la ejecuci\u00f3n de la siguiente celda puede tardarse un tiempo considerable. Se recomienda ir a tomar un cafe o revisar el correo electr\u00f3nico):"
     ]
    },
    {
     "cell_type": "code",
     "collapsed": false,
     "input": [
      "tC = []\n",
      "tP = []\n",
      "for gs in 2**np.arange(6,12):\n",
      "    # tiempo de codigo C\n",
      "    start_time = time.time()\n",
      "    !../codes/./difusionCPU {gs}\n",
      "    elapsed_time = time.time() - start_time\n",
      "    tC.append(elapsed_time)\n",
      "    # tiempo de codigo Python\n",
      "    start_time = time.time()\n",
      "    u = np.zeros((gs,gs))  \n",
      "    diffuse_python(u) \n",
      "    elapsed_time = time.time() - start_time\n",
      "    tP.append(elapsed_time)"
     ],
     "language": "python",
     "metadata": {},
     "outputs": [
      {
       "output_type": "stream",
       "stream": "stdout",
       "text": [
        "N = 64\r\n"
       ]
      },
      {
       "output_type": "stream",
       "stream": "stdout",
       "text": [
        "time = 1.48612\r\n"
       ]
      },
      {
       "output_type": "stream",
       "stream": "stdout",
       "text": [
        "N = 128\r\n"
       ]
      },
      {
       "output_type": "stream",
       "stream": "stdout",
       "text": [
        "time = 6.11054\r\n"
       ]
      },
      {
       "output_type": "stream",
       "stream": "stdout",
       "text": [
        "N = 256\r\n"
       ]
      },
      {
       "output_type": "stream",
       "stream": "stdout",
       "text": [
        "time = 28.862\r\n"
       ]
      },
      {
       "output_type": "stream",
       "stream": "stdout",
       "text": [
        "N = 512\r\n"
       ]
      },
      {
       "output_type": "stream",
       "stream": "stdout",
       "text": [
        "time = 115.519\r\n"
       ]
      },
      {
       "metadata": {},
       "output_type": "pyout",
       "prompt_number": 26,
       "text": [
        "[<matplotlib.lines.Line2D at 0x3e56090>,\n",
        " <matplotlib.lines.Line2D at 0x3e56310>]"
       ]
      },
      {
       "metadata": {},
       "output_type": "display_data",
       "png": "[encoded data removed]",
       "text": [
        "<matplotlib.figure.Figure at 0x41daa90>"
       ]
      }
     ],
     "prompt_number": 26
    },
    {
     "cell_type": "markdown",
     "metadata": {},
     "source": [
      "Los resultados pueden apreciarse mejor en una grafica del tiempo de ejecucion como funci\u00f3n del tama\u00f1o de la malla:"
     ]
    },
    {
     "cell_type": "code",
     "collapsed": false,
     "input": [
      "plt.plot(2**np.arange(6,10), tC, 'og', 2**np.arange(6,10), tP, 'bs');"
     ],
     "language": "python",
     "metadata": {},
     "outputs": [
      {
       "metadata": {},
       "output_type": "display_data",
       "png": "[encoded data removed]",
       "text": [
        "<matplotlib.figure.Figure at 0x42c9150>"
       ]
      }
     ],
     "prompt_number": 30
    },
    {
     "cell_type": "markdown",
     "metadata": {},
     "source": [
      "Como puede verse, para tama\u00f1os de la malla menores a 512, los tiempos de ejecucion son similares, "
     ]
    }
   ],
   "metadata": {}
  }
 ]
}