{
 "metadata": {
  "name": ""
 },
 "nbformat": 3,
 "nbformat_minor": 0,
 "worksheets": [
  {
   "cells": [
    {
     "cell_type": "markdown",
     "metadata": {},
     "source": [
      "#Computaci\u00f3n en GPUs con (py)CUDA\n",
      "\n",
      "##Libreta 8. Introducci\u00f3n a pyCUDA\n",
      "\n",
      "Parte del contenido de esta libreta se basa en el material del curso __PASI__ que se encuentra http://www.bu.edu/pasi/materials/post-pasi-training/post-pasi-training-week-1/.\n",
      "###Tabla de Contenidos:\n",
      "\n",
      "1. Difusi\u00f3n en 2D\n",
      "\n",
      "2. Comparaci\u00f3n entre GPU, CPU (con C) y Python\n",
      "\n",
      "3. \n",
      "\n",
      "4. Ejercicios\n",
      "\n",
      "5. Material adicional"
     ]
    },
    {
     "cell_type": "markdown",
     "metadata": {},
     "source": [
      "###1. Difusi\u00f3n en 2D\n",
      "\n",
      "En las libretas anteriores hemos implementado una soluci\u00f3n num\u00e9rica a la ecuaci\u00f3n de difusi\u00f3n en 2D usando el siguiente m\u00e9todo de diferencias finitas: \n",
      "\n",
      "$$u^{n+1}_{i,j} = u^n_{i,j} + \\frac{\\alpha \\Delta t}{\\Delta x^2}(u^n_{i+1,j}-2u^n_{i,j}+u^n_{i-1,j}) + \\frac{\\alpha \\Delta t}{\\Delta y^2}(u^n_{i,j+1}-2u^n_{i,j}+u^n_{i,j-1})$$\n",
      "\n",
      "utilizando tres herramientas distintas:\n",
      "\n",
      "* Python,\n",
      "* C tradicional,\n",
      "* CUDA C.\n",
      "\n",
      "En cada uno de los casos hemos medido el tiempo de ejecuci\u00f3n y encontramos el siguiente orden de acuerdo a la rapidez con la que se obtiene (la misma) soluci\u00f3n:\n",
      "\n",
      "1. CUDA C ( aprox. 5 seg. )\n",
      "2. C  (entre 111-115 seg. aprox. )\n",
      "3. Python ( aprox. 120 seg. )\n",
      "\n",
      "para una malla de 512x512 y 40000 pasos de tiempo. La diferencia entre C (y Python) y el desempe\u00f1o del GPU es evidente, pero la implementaci\u00f3n a la soluci\u00f3n del problema es mucho mas sencilla en pel lenguaje Python, lo cual puede apreciarse al comparar los listados, por ejemplo de CUDA y de Python. \n",
      "\n",
      "El desempe\u00f1o de Python es menor debido a que \u00e9ste es un lenguaje interpretado. A lo mucho es comparable con el tiempo de ejecuci\u00f3n del CPU, pero esto requiere de c\u00f3digo altamente optimizado. De cualquier modo el desempe\u00f1o del GPU rebasa el del CPU, pero como se comenta, el c\u00f3digo de Python es mucho mas simple y conciso que el del lenguaje C, CUDA o tradicional.\n",
      "\n",
      "Esta discusi\u00f3n nos lleva a plantearuna manera de utilizar Python pero aprovechar el desempe\u00f1o del GPU. Existe una librear\u00eda que permite hacer esto, se llama pyCUDA y extiende Python por medio de un modulo cuyas clases llaman las instrucciones que se necesitan para interactuar con el GPU, pero desde Python, sin necesidad de utilizar el lenguaje C.\n",
      "\n",
      "En el resto de la libreta resolveremos el mismo problema de la difusi\u00f3n en 2D pero usando pyCUDA.\n",
      "\n",
      "###2. pyCUDA\n",
      "Primero llamamos las librer\u00edas necesarias para invocar pyCUDA:\n",
      "\n",
      "    import pycuda.driver as cuda\n",
      "    import pycuda.autoinit\n",
      "    from pycuda.compiler import SourceModule\n",
      "    \n",
      "Estas librerias proporcionan las clases b\u00e1sicas para poder utilizar el GPU desde Python. El c\u00f3digo de Python que utilizamos anteriormente se modifica de manera muy simple:"
     ]
    },
    {
     "cell_type": "code",
     "collapsed": false,
     "input": [
      "import pycuda.driver as cuda\n",
      "import pycuda.autoinit\n",
      "from pycuda.compiler import SourceModule"
     ],
     "language": "python",
     "metadata": {},
     "outputs": [],
     "prompt_number": 4
    },
    {
     "cell_type": "markdown",
     "metadata": {},
     "source": [
      "Creamos una nueva instancia de `SourceModule` que contiene el kernel que se ejecutar\u00e1 en el GPU. En este caso ya contamos con los kernel pues los implementamos para la soluci\u00f3n usando CUDA C:"
     ]
    },
    {
     "cell_type": "code",
     "collapsed": false,
     "input": [
      "mod1 = SourceModule(\"\"\"\n",
      "__global__ void copy_array (float *u, float *u_prev, int N, int BSZ)\n",
      "{\t\n",
      "\tint x = blockIdx.x*blockDim.x + threadIdx.x;\n",
      "\tint y = blockIdx.y*blockDim.y + threadIdx.y;\n",
      "\tif ((x<N) && (y<N)) {\n",
      "\t\tint idx = x + y * blockDim.x*gridDim.x;\n",
      "\t\tu_prev[idx] = u[idx];\n",
      "\t}\n",
      "}\n",
      "\"\"\")\n",
      "\n",
      "mod2 = SourceModule(\"\"\"\n",
      "__global__ void update (float *u, float *u_prev, int N, float h, float dt, float alpha, int BSZ)\n",
      "{\n",
      "\tint x = blockIdx.x*blockDim.x + threadIdx.x;\n",
      "\tint y = blockIdx.y*blockDim.y + threadIdx.y;\n",
      "\t\n",
      "\tif (x>0 && (x<N-1) && y>0 && (y<N-1)) {\n",
      "\t\tint idx = x + y * blockDim.x*gridDim.x;\n",
      "\t\tu[idx] = u_prev[idx] + alpha*dt/(h*h) * (u_prev[idx+1] + u_prev[idx-1] + u_prev[idx+N] + u_prev[idx-N] - 4*u_prev[idx]);\n",
      "\t}\n",
      "}\n",
      "\"\"\")"
     ],
     "language": "python",
     "metadata": {},
     "outputs": [],
     "prompt_number": 5
    },
    {
     "cell_type": "markdown",
     "metadata": {},
     "source": [
      "Si la celda anterior ejecuta sin errores quiere decir que los kernels se han compilado exitosamente y se han cargado en el GPU. Existen como clases de la instancia \n",
      "\n",
      "    pycuda.compiler.SourceModule\n",
      "   \n",
      "Ahora las funciones definidas por los kernels cargados al GPU pueden invocarse desde Python:"
     ]
    },
    {
     "cell_type": "code",
     "collapsed": false,
     "input": [
      "copy_array = mod1.get_function(\"copy_array\")"
     ],
     "language": "python",
     "metadata": {},
     "outputs": [],
     "prompt_number": 8
    },
    {
     "cell_type": "code",
     "collapsed": false,
     "input": [
      "update = mod2.get_function(\"update\")"
     ],
     "language": "python",
     "metadata": {},
     "outputs": [],
     "prompt_number": 9
    },
    {
     "cell_type": "markdown",
     "metadata": {},
     "source": [
      "El resto del proceso sigue el modelo de programaci\u00f3n de CUDA:\n",
      "\n",
      "1. Inicializar datos en el GPU\n",
      "2. Copiar datos al GPU\n",
      "3. Ejecutar kernels \n",
      "4. Copiar datos al _host_\n",
      "\n",
      "Sin embargo podemos hacer estas llamadas usando lenguaje de Python y mezclando datos de `numpy`. Los GPU actuales no soportan tipos de datos de 64 bits, por default `numpy` genera arreglos con estos tipos entonces deben convertirse a 32bit para poder ser usados en el GPU."
     ]
    },
    {
     "cell_type": "code",
     "collapsed": false,
     "input": [
      "nx = np.int32(64)\n",
      "ny = ny\n",
      "alpha = np.float32(0.645)\n",
      "dx = np.float32(3.5/(nx-1))\n",
      "dy = np.float32(3.5/(ny-1))\n",
      "dt = np.float32(1e-05)\n",
      "time = np.float32(0.4)\n",
      "nt = np.int32(np.ceil(time/dt))\n",
      "\n",
      "print 'number of steps: %d\\n' % nt"
     ],
     "language": "python",
     "metadata": {},
     "outputs": [
      {
       "output_type": "stream",
       "stream": "stdout",
       "text": [
        "number of steps: 40000\n",
        "\n"
       ]
      }
     ],
     "prompt_number": 126
    },
    {
     "cell_type": "markdown",
     "metadata": {},
     "source": [
      "Damos la condici\u00f3n inicial y declaramos los datos en el _host_:"
     ]
    },
    {
     "cell_type": "code",
     "collapsed": false,
     "input": [
      "u = np.zeros((ny,nx))\n",
      "\n",
      "u[0,:]=200\n",
      "# u[-1,:]=0\n",
      "u[:,0]=200\n",
      "# u[:,-1]=0\n",
      "\n",
      "u = u.astype(numpy.float32)\n",
      "\n",
      "u_prev = u.copy()"
     ],
     "language": "python",
     "metadata": {},
     "outputs": [],
     "prompt_number": 127
    },
    {
     "cell_type": "markdown",
     "metadata": {},
     "source": [
      "Copiamos los datos del _host_ al GPU utilizando un comando muy similar al e CUDA C:"
     ]
    },
    {
     "cell_type": "code",
     "collapsed": false,
     "input": [
      "u_d = cuda.mem_alloc(u.size*u.dtype.itemsize)\n",
      "u_prev_d = cuda.mem_alloc(u_prev.size*u_prev.dtype.itemsize)\n",
      "cuda.memcpy_htod(u_d, u)\n",
      "cuda.memcpy_htod(u_prev_d, u_prev)"
     ],
     "language": "python",
     "metadata": {},
     "outputs": [],
     "prompt_number": 128
    },
    {
     "cell_type": "markdown",
     "metadata": {},
     "source": [
      "Ahora definimos el tama\u00f1o del bloque y el n\u00famero de hilos por bloque. Usamos la misma configuraci\u00f3n que en el listado CUDA C. N\u00f3tese que \u00e9stos deben ser listas de enteros."
     ]
    },
    {
     "cell_type": "code",
     "collapsed": false,
     "input": [
      "BLOCKSIZE = 16\n",
      "gridSize = (int(ceil(nx/BLOCKSIZE)),int(ceil(nx/BLOCKSIZE)),1)\n",
      "blockSize = (BLOCKSIZE,BLOCKSIZE,1)"
     ],
     "language": "python",
     "metadata": {},
     "outputs": [],
     "prompt_number": 129
    },
    {
     "cell_type": "markdown",
     "metadata": {},
     "source": [
      "Ahora ejecutamos los kernel iterando a lo largo del tiempo"
     ]
    },
    {
     "cell_type": "code",
     "collapsed": false,
     "input": [
      "for t in range(nt+1):\n",
      "    copy_array(u_d, u_prev_d, nx, np.int32(BLOCKSIZE), block=blockSize, grid=gridSize)\n",
      "    update(u_d, u_prev_d, nx, dx, dt, alpha, np.int32(BLOCKSIZE), block=block, grid=grid)"
     ],
     "language": "python",
     "metadata": {},
     "outputs": [],
     "prompt_number": 130
    },
    {
     "cell_type": "markdown",
     "metadata": {},
     "source": [
      "Copiamos el resultado del GPU al _host_ y graficamos la distribuci\u00f3n de temperatura obtenida:"
     ]
    },
    {
     "cell_type": "code",
     "collapsed": false,
     "input": [
      "cuda.memcpy_dtoh(u, u_d)\n",
      "\n",
      "x = np.linspace(0,3.5,nx)\n",
      "y = np.linspace(0,3.5,ny)\n",
      "X,Y = np.meshgrid(x,y)\n",
      "\n",
      "surf = plt.pcolormesh(X,Y,u[:], cmap=cm.gnuplot)\n",
      "plt.axes().set_aspect('equal', 'box')\n",
      "plt.show()"
     ],
     "language": "python",
     "metadata": {},
     "outputs": [
      {
       "metadata": {},
       "output_type": "display_data",
       "png": "[encoded data removed]",
       "text": [
        "<matplotlib.figure.Figure at 0x3dafb90>"
       ]
      }
     ],
     "prompt_number": 131
    },
    {
     "cell_type": "markdown",
     "metadata": {},
     "source": [
      "###3. Tiempo de ejecuci\u00f3n"
     ]
    },
    {
     "cell_type": "markdown",
     "metadata": {},
     "source": [
      "Hemos implementado todas las instrucciones en una sola funci\u00f3n que nos permite evaluar el desempe\u00f1o total del c\u00f3digo en pyCUDA y compararlo con CUDA C, C tradicional y por supuesto Python. Recordemos que los tiempos aproximados de ejecuci\u00f3n en cada una de las herramientas que hemos presentado son\n",
      "\n",
      "1. CUDA C ( aprox. 5 seg. )\n",
      "2. C  (entre 111-115 seg. aprox. )\n",
      "3. Python ( aprox. 120 seg. )\n",
      "\n",
      "para una malla del dominio de 512x512 y 40000 pasos de tiempo. Con la implementaci\u00f3n en pyCUDA que acabamos de presentar, el tiempo estimado es"
     ]
    },
    {
     "cell_type": "code",
     "collapsed": false,
     "input": [
      "%timeit diffuse(512,512,0)"
     ],
     "language": "python",
     "metadata": {},
     "outputs": [
      {
       "output_type": "stream",
       "stream": "stdout",
       "text": [
        "1 loops, best of 3: 1.78 s per loop\n"
       ]
      }
     ],
     "prompt_number": 134
    },
    {
     "cell_type": "markdown",
     "metadata": {},
     "source": [
      "Incluso mejor que utilizando CUDA C."
     ]
    },
    {
     "cell_type": "markdown",
     "metadata": {},
     "source": [
      "###4. Ejercicios\n",
      "\n",
      "1. Realizar una comparaci\u00f3n _cuantitativa_ del tiempo de ejecuci\u00f3n del CPU y el GPU y mostrar una gr\u00e1fica de tiempo de ejecuci\u00f3n como funci\u00f3n del tama\u00f1o de la malla usada para discretizar el dominio.\n",
      "2. Cambiar el tama\u00f1o del bloque de hilos y la malla de bloques en el c\u00f3digo CUDA y discutir sobre el rendimiento y el desempe\u00f1o del c\u00f3digo. \u00bfQu\u00e9 ocurre al utilizar una malla de bloques que no es m\u00fatliplo de la malla del dominio?"
     ]
    },
    {
     "cell_type": "markdown",
     "metadata": {},
     "source": [
      "###5. Material adicional"
     ]
    },
    {
     "cell_type": "markdown",
     "metadata": {},
     "source": [
      "####5.1 Juntando las piezas\n",
      "El listado completo se puede condensar en una funci\u00f3n:"
     ]
    },
    {
     "cell_type": "code",
     "collapsed": false,
     "input": [
      "import pycuda.driver as cuda\n",
      "import pycuda.autoinit\n",
      "from pycuda.compiler import SourceModule\n",
      "\n",
      "import numpy as np\n",
      "import matplotlib.pyplot as plt\n",
      "from mpl_toolkits.mplot3d import Axes3D \n",
      "from matplotlib import cm\n",
      "\n",
      "mod1 = SourceModule(\"\"\"\n",
      "__global__ void copy_array (float *u, float *u_prev, int N, int BSZ)\n",
      "{\t\n",
      "\tint x = blockIdx.x*blockDim.x + threadIdx.x;\n",
      "\tint y = blockIdx.y*blockDim.y + threadIdx.y;\n",
      "\tif ((x<N) && (y<N)) {\n",
      "\t\tint idx = x + y * blockDim.x*gridDim.x;\n",
      "\t\tu_prev[idx] = u[idx];\n",
      "\t}\n",
      "}\n",
      "\"\"\")\n",
      "\n",
      "mod2 = SourceModule(\"\"\"\n",
      "__global__ void update (float *u, float *u_prev, int N, float h, float dt, float alpha, int BSZ)\n",
      "{\n",
      "\tint x = blockIdx.x*blockDim.x + threadIdx.x;\n",
      "\tint y = blockIdx.y*blockDim.y + threadIdx.y;\n",
      "\t\n",
      "\tif (x>0 && (x<N-1) && y>0 && (y<N-1)) {\n",
      "\t\tint idx = x + y * blockDim.x*gridDim.x;\n",
      "\t\tu[idx] = u_prev[idx] + alpha*dt/(h*h) * (u_prev[idx+1] + u_prev[idx-1] + u_prev[idx+N] + u_prev[idx-N] - 4*u_prev[idx]);\n",
      "\t}\n",
      "}\n",
      "\"\"\")\n",
      "\n",
      "copy_array = mod1.get_function(\"copy_array\")\n",
      "update = mod2.get_function('update')\n",
      "\n",
      "\n",
      "def diffuse(nx, ny, bool_plot):\n",
      "    nx = np.int32(nx)\n",
      "    ny = ny\n",
      "    alpha = np.float32(0.645)\n",
      "    dx = np.float32(3.5/(nx-1))\n",
      "    dy = np.float32(3.5/(ny-1))\n",
      "    dt = np.float32(1e-05)\n",
      "    time = np.float32(0.4)\n",
      "    nt = np.int32(np.ceil(time/dt))\n",
      "    \n",
      "    u = np.zeros((ny,nx))\n",
      "    u[0,:]=200\n",
      "    u[:,0]=200  \n",
      "    \n",
      "    u = u.astype(numpy.float32)\n",
      "    \n",
      "    u_prev = u.copy()    \n",
      "    \n",
      "    u_d = cuda.mem_alloc(u.size*u.dtype.itemsize)\n",
      "    u_prev_d = cuda.mem_alloc(u_prev.size*u_prev.dtype.itemsize)\n",
      "    cuda.memcpy_htod(u_d, u)\n",
      "    cuda.memcpy_htod(u_prev_d, u_prev)\n",
      "\n",
      "    BLOCKSIZE = 16\n",
      "    gridSize = (int(ceil(nx/BLOCKSIZE)),int(ceil(nx/BLOCKSIZE)),1)\n",
      "    blockSize = (BLOCKSIZE,BLOCKSIZE,1)\n",
      "\n",
      "    for t in range(nt+1):\n",
      "        copy_array(u_d, u_prev_d, nx, np.int32(BLOCKSIZE), block=blockSize, grid=gridSize)\n",
      "        update(u_d, u_prev_d, nx, dx, dt, alpha, np.int32(BLOCKSIZE), block=block, grid=grid)\n",
      "    \n",
      "    cuda.memcpy_dtoh(u, u_d)\n",
      "    \n",
      "    if bool_plot==1:\n",
      "        x = np.linspace(0,3.5,nx)\n",
      "        y = np.linspace(0,3.5,ny)\n",
      "        X,Y = np.meshgrid(x,y)\n",
      "\n",
      "        surf = plt.pcolormesh(X,Y,u[:], cmap=cm.gnuplot)\n",
      "        plt.axes().set_aspect('equal', 'box')\n",
      "        plt.show()\n",
      "\n",
      "diffuse(64,64,1)"
     ],
     "language": "python",
     "metadata": {},
     "outputs": [
      {
       "metadata": {},
       "output_type": "display_data",
       "png": "[encoded data removed]",
       "text": [
        "<matplotlib.figure.Figure at 0x3dbcbd0>"
       ]
      }
     ],
     "prompt_number": 133
    },
    {
     "cell_type": "code",
     "collapsed": false,
     "input": [
      "from IPython.core.display import HTML\n",
      "def css_styling():\n",
      "    styles = open(\"./styles/custom.css\", \"r\").read()\n",
      "    return HTML(styles)\n",
      "css_styling()"
     ],
     "language": "python",
     "metadata": {},
     "outputs": [
      {
       "html": [
        "<style>\n",
        "    @font-face {\n",
        "        font-family: \"Computer Modern\";\n",
        "        src: url('http://mirrors.ctan.org/fonts/cm-unicode/fonts/otf/cmunss.otf');\n",
        "    }\n",
        "    div.cell{\n",
        "        width:800px;\n",
        "        margin-left:16% !important;\n",
        "        margin-right:auto;\n",
        "    }\n",
        "    h1 {\n",
        "        font-family: Helvetica, serif;\n",
        "    }\n",
        "    h2 {\n",
        "        font-family: Helvetica, serif;\n",
        "    }\n",
        "    h4{\n",
        "        margin-top:12px;\n",
        "        margin-bottom: 3px;\n",
        "       }\n",
        "    div.text_cell_render{\n",
        "        font-family: Computer Modern, \"Helvetica Neue\", Arial, Helvetica, Geneva, sans-serif;\n",
        "        line-height: 135%;\n",
        "        font-size: 120%;\n",
        "        width:600px;\n",
        "        margin-left:auto;\n",
        "        margin-right:auto;\n",
        "    }\n",
        "    .CodeMirror{\n",
        "            font-family: \"Source Code Pro\", source-code-pro,Consolas, monospace;\n",
        "    }\n",
        "/*    .prompt{\n",
        "        display: None;\n",
        "    }*/\n",
        "    .text_cell_render h5 {\n",
        "        font-weight: 300;\n",
        "        font-size: 16pt;\n",
        "        color: #4057A1;\n",
        "        font-style: italic;\n",
        "        margin-bottom: .5em;\n",
        "        margin-top: 0.5em;\n",
        "        display: block;\n",
        "    }\n",
        "    \n",
        "    .warning{\n",
        "        color: rgb( 240, 20, 20 )\n",
        "        }  \n",
        "</style>\n",
        "<script>\n",
        "    MathJax.Hub.Config({\n",
        "                        TeX: {\n",
        "                           extensions: [\"AMSmath.js\"]\n",
        "                           },\n",
        "                tex2jax: {\n",
        "                    inlineMath: [ ['$','$'], [\"\\\\(\",\"\\\\)\"] ],\n",
        "                    displayMath: [ ['$$','$$'], [\"\\\\[\",\"\\\\]\"] ]\n",
        "                },\n",
        "                displayAlign: 'center', // Change this to 'center' to center equations.\n",
        "                \"HTML-CSS\": {\n",
        "                    styles: {'.MathJax_Display': {\"margin\": 4}}\n",
        "                }\n",
        "        });\n",
        "</script>"
       ],
       "metadata": {},
       "output_type": "pyout",
       "prompt_number": 7,
       "text": [
        "<IPython.core.display.HTML at 0x4b5cf10>"
       ]
      }
     ],
     "prompt_number": 7
    }
   ],
   "metadata": {}
  }
 ]
}