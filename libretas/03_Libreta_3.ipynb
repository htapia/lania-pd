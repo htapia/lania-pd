{
 "metadata": {
  "name": ""
 },
 "nbformat": 3,
 "nbformat_minor": 0,
 "worksheets": [
  {
   "cells": [
    {
     "cell_type": "markdown",
     "metadata": {},
     "source": [
      "#Computaci\u00f3n en GPUs con (py)CUDA\n",
      "\n",
      "##Libreta 3. Introducci\u00f3n a Python\n",
      "\n",
      "Parte del contenido de esta libreta se basa en el curso __CFD Python: 12 steps to Navier-Stokes__ que se encuentra en http://lorenabarba.com/blog/cfd-python-12-steps-to-navier-stokes.\n",
      "\n",
      "###Tabla de Contenidos:\n",
      "\n",
      "1. Python\n",
      "\n",
      "2. Ecuaci\u00f3n de convecci\u00f3n en 1D y diferencias finitas\n",
      "\n",
      "3. Ejercicios\n",
      "\n",
      "4. Material adicional"
     ]
    },
    {
     "cell_type": "markdown",
     "metadata": {},
     "source": [
      "###1. Python"
     ]
    },
    {
     "cell_type": "markdown",
     "metadata": {},
     "source": [
      "###2. Ecuaci\u00f3n de convecci\u00f3n en 1D y diferencias finitas\n",
      "Se introducir\u00e1 el lenguaje de programaci\u00f3n Python estudiando un problema elemental de fluidos, la ecuaci\u00f3n de convecci\u00f3n lineal en una dimensi\u00f3n. Convecci\u00f3n es una de las formas en que se transfiere el calor. La ecuaci\u00f3n de convecci\u00f3n en una dimensi\u00f3n es \n",
      "\n",
      "$$ \\frac{\\partial u}{\\partial t} + c \\frac{\\partial u}{\\partial x} = 0 $$\n",
      "\n",
      "con una condici\u00f3n inicial determinada. Si $u(x,0) = u_0$ representa la condici\u00f3n inicial, entonces la soluci\u00f3n exacta de la ecuaci\u00f3n es $u(x,t) = u_0(x-ct$, y puede entenderse como una _onda_ que se propaga con velocidad constante $c$.\n",
      "\n",
      "La ecuaci\u00f3n puede _discretizarse_, en el tiempo y en el espacio, utilizando _diferencias finitas_, un esquema _hacia adelente_ para la derivada temporal, y un esquema _hacia atras_ para la derivada espacial. La coordenada espacial $x$ se puede discretizar en $N$ puntos que numeramos de $i=0$ a $N$, y avanzaremos en el tiempo con pasos discretos de tama\u00f1o $\\Delta t$.\n",
      "\n",
      "De la definici\u00f3n de la derivada, podemos escribir: \n",
      "\n",
      "$$\\frac{\\partial u}{\\partial t} \\approx \\frac{u(x + \\Delta x) - u(x)}{\\Delta x},$$\n",
      "\n",
      "si denotamos por $$u^n_i = u(x_i,t_n)$$ al valor de la funci\u00f3n en el punto $x_i$ de la discretizaci\u00f3n de la coordenada espacial, al tiempo (discreto) $t_n=n\\Delta t$, la ecuaci\u00f3n discretizada es: \n",
      "\n",
      "$$\\frac{u^{n+1}_i - u^n_i}{\\Delta t} + c\\frac{u^n_i - u^n_{i-1}}{\\Delta x} = 0.$$\n",
      "\n",
      "En esta ecuaci\u00f3n, $n$ y $n+1$ son dos pasos consecutivos en el tiempo, mientras que $i-1$ e $i$ son dos puntos vecinos de la discretizaci\u00f3n de la coordenada espacial. Dada la condici\u00f3n inicial, el \u00fanico t\u00e9rmino de la ecuaci\u00f3n que no conocemos es $u^{n+1}_i$, pero podemos resolver de la ecuaci\u00f3n y obtener: \n",
      "\n",
      "$$u^{n+1}_i =  u^n_i -c\\frac{\\Delta t}{\\Delta x} (u^n_i - u^n_{i-1}).$$\n",
      "\n",
      "Ahora implementaremos esta discretizaci\u00f3n en Python.\n",
      "\n",
      "Comenzamos por _importar_ algunas librer\u00edas:\n",
      "\n",
      "* `numpy` es una librer\u00eda que proporciona operaciones matriciales utiles. Similar a MATLAB;\n",
      "\n",
      "* `matplotlib` es una librer\u00eda para graficar;"
     ]
    },
    {
     "cell_type": "code",
     "collapsed": false,
     "input": [
      "# En python, los comentarios se anteceden por un signo de \"gato\" #\n",
      "import numpy as np\n",
      "import matplotlib.pyplot as plt"
     ],
     "language": "python",
     "metadata": {},
     "outputs": [],
     "prompt_number": 4
    },
    {
     "cell_type": "markdown",
     "metadata": {},
     "source": [
      "Ahora definiremos algunas variables; queremos definir una malla espaciada en intervalos iguales en un intervalo del espacio que tiene dos unidades de longitud, es decir $x_i \\in (0,2)$. Definiremos una variable `nx`, que ser\u00e1 el n\u00famero de puntos en la malla, y `dx` la distancia entre pares adyacentes de puntos en la malla."
     ]
    },
    {
     "cell_type": "code",
     "collapsed": false,
     "input": [
      "nx = 41\n",
      "dx = 2./(nx-1)\n",
      "nt = 25\n",
      "dt = 0.025\n",
      "c = 1."
     ],
     "language": "python",
     "metadata": {},
     "outputs": [],
     "prompt_number": 5
    },
    {
     "cell_type": "markdown",
     "metadata": {},
     "source": [
      "La condici\u00f3n inicial para la velocidad $u_0$ est\u00e1 dada como una funci\u00f3n escal\u00f3n con $u=2$ en el intervalo $0.5 \\leq x \\leq 1$ y $u=1$ en el resto del intervalo $(0,2)$.\n",
      "\n",
      "Usaremos una funci\u00f3n de la librer\u00eda `numpy` llamada `ones()` para definir un arreglo con `nx` elementos, todos ellos con un valor igual a 1."
     ]
    },
    {
     "cell_type": "code",
     "collapsed": false,
     "input": [
      "u = np.ones(nx)\n",
      "u[0.5/dx : 1/dx+1] = 2\n",
      "print u"
     ],
     "language": "python",
     "metadata": {},
     "outputs": [
      {
       "output_type": "stream",
       "stream": "stdout",
       "text": [
        "[ 1.  1.  1.  1.  1.  1.  1.  1.  1.  1.  2.  2.  2.  2.  2.  2.  2.  2.\n",
        "  2.  2.  2.  1.  1.  1.  1.  1.  1.  1.  1.  1.  1.  1.  1.  1.  1.  1.\n",
        "  1.  1.  1.  1.  1.]\n"
       ]
      }
     ],
     "prompt_number": 16
    },
    {
     "cell_type": "markdown",
     "metadata": {},
     "source": [
      "Ahora usaremos `Matplotlib` para graficar la condici\u00f3n inicial; dado que hemos importado la librer\u00eda para graficar de `matplotlib` como `plt`, y la funci\u00f3n que produce las gr\u00e1ficas se llama `plot`, podemos invocarla usando `plt.plot`. Usaremos la sintaxis para una gr\u00e1fica sencilla en 2D: `plot(x,y)`, donde `x` son los valores igualmente espaciados de la malla:"
     ]
    },
    {
     "cell_type": "code",
     "collapsed": false,
     "input": [
      "plt.plot(np.linspace(0,2,nx),u);"
     ],
     "language": "python",
     "metadata": {},
     "outputs": [
      {
       "metadata": {},
       "output_type": "display_data",
       "png": "[encoded data removed]",
       "text": [
        "<matplotlib.figure.Figure at 0x3b75410>"
       ]
      }
     ],
     "prompt_number": 17
    },
    {
     "cell_type": "markdown",
     "metadata": {},
     "source": [
      "Ahora implementamos la discretizaci\u00f3n de la ecuaci\u00f3n de convecci\u00f3n usando el esquema de diferencias finitas.\n",
      "\n",
      "Para cada uno de los elementos del arreglo `u`, necesitamos realizar la operaci\u00f3n $u^{n+1}_i =  u^n_i -c\\frac{\\Delta t}{\\Delta x} (u^n_i - u^n_{i-1}).$ \n",
      "\n",
      "Usaremos un arreglo temporal `un` que ser\u00e1 la soluci\u00f3n `u` en el siguiente paso del tiempo. Repetiremos esta operaci\u00f3n tantas veces como pasos de tiempo especificados por `nt` y despu\u00e9s podremos ver el resultado de la convecci\u00f3n.\n",
      "\n",
      "El arreglo temporal `un` tendra los valores que usaremos para calcular `u` en el $n+1$ paso de tiempo. Es conveniente primero inicializar el arreglo temporal `un`, para lo cual usaremos nuevamente la funci\u00f3n `ones()` de NumPy.\n",
      "\n",
      "El proceso de convecci\u00f3n (discreta) puede verse como dos operaciones iterativas: una en el espacio y una en el tiempo, de modo que lo implementaremos anidando un _loop_ dentro del otro. Al escribir `for i in range(1,nx)` iteramos a lo largo de el arreglo `u`, pero evitando el primer elemento `u[0]`."
     ]
    },
    {
     "cell_type": "code",
     "collapsed": false,
     "input": [
      "un = np.ones(nx)\n",
      "\n",
      "for n in range(nt):\n",
      "    un = u.copy()\n",
      "    for i in range(1,nx):\n",
      "        u[i] = un[i] - c*dt/dx*(un[i]-un[i-1])\n"
     ],
     "language": "python",
     "metadata": {},
     "outputs": [],
     "prompt_number": 18
    },
    {
     "cell_type": "markdown",
     "metadata": {},
     "source": [
      "**Nota**\u2014Esta implementaci\u00f3n resulta ser muy ineficiente y hay mejores maneras de escribirla, usando el estilo de Python.\n",
      "\n",
      "Ahora graficamos el arreglo `u` despu\u00e9s de avanzar en el tiempo."
     ]
    },
    {
     "cell_type": "code",
     "collapsed": false,
     "input": [
      "plt.plot(np.linspace(0,2,nx),u);"
     ],
     "language": "python",
     "metadata": {},
     "outputs": [
      {
       "metadata": {},
       "output_type": "display_data",
       "png": "[encoded data removed]",
       "text": [
        "<matplotlib.figure.Figure at 0x3b70350>"
       ]
      }
     ],
     "prompt_number": 19
    },
    {
     "cell_type": "markdown",
     "metadata": {},
     "source": [
      "Recordemos que para una condici\u00f3n inicial dada, $u(x,0)=u_0(x)$, la soluci\u00f3n es $u(x,t) = u_0(x-ct)$, de manera que la funci\u00f3n inicial se mueve pero manteniendo la _forma_.\n",
      "\n",
      "La funci\u00f3n escal\u00f3n con la que iniciamos definitivamente se ha movido a la derecha, \u00a1pero ya no tiene la forma de escal\u00f3n! __\u00bfQu\u00e9 esta ocurriendo?__"
     ]
    },
    {
     "cell_type": "markdown",
     "metadata": {},
     "source": [
      "###3. Ejercicios\n",
      "Reescribir y ejecutar el c\u00f3digo de \u00e9sta libreta y comparar resultados para diferentes tama\u00f1os de la malla y experimentar observando la gr\u00e1fica de u al avanzar en el tiempo. \n",
      "\n",
      "Responder\n",
      "\n",
      "* \u00bfPorqu\u00e9 la gr\u00e1fica de la condici\u00f3n inicial no tiene l\u00edneas perfectamente verticales?\n",
      "* \u00bfPorqu\u00e9 en la iteraci\u00f3n de la coordenada espacial empezamos con el elemento `u[1]` y nos saltamos `u[0]`?\n",
      "* \u00bfPorqu\u00e9 la soluci\u00f3n ya no tiene una forma de escal\u00f3n?\n",
      "* \u00bfPorqu\u00e9 decimos que la implementaci\u00f3n recursiva es ineficiente?"
     ]
    },
    {
     "cell_type": "markdown",
     "metadata": {},
     "source": [
      "###4. Material adicional\n",
      "Puede encontrarse en el repositorio de estos cuadernos o ejecutando la siguiente celda."
     ]
    },
    {
     "cell_type": "code",
     "collapsed": false,
     "input": [
      "from IPython.core.display import HTML\n",
      "def css_styling():\n",
      "    styles = open(\"./styles/custom.css\", \"r\").read()\n",
      "    return HTML(styles)\n",
      "css_styling()"
     ],
     "language": "python",
     "metadata": {},
     "outputs": [
      {
       "html": [
        "<style>\n",
        "    @font-face {\n",
        "        font-family: \"Computer Modern\";\n",
        "        src: url('http://mirrors.ctan.org/fonts/cm-unicode/fonts/otf/cmunss.otf');\n",
        "    }\n",
        "    div.cell{\n",
        "        width:800px;\n",
        "        margin-left:16% !important;\n",
        "        margin-right:auto;\n",
        "    }\n",
        "    h1 {\n",
        "        font-family: Helvetica, serif;\n",
        "    }\n",
        "    h2 {\n",
        "        font-family: Helvetica, serif;\n",
        "    }\n",
        "    h4{\n",
        "        margin-top:12px;\n",
        "        margin-bottom: 3px;\n",
        "       }\n",
        "    div.text_cell_render{\n",
        "        font-family: Computer Modern, \"Helvetica Neue\", Arial, Helvetica, Geneva, sans-serif;\n",
        "        line-height: 135%;\n",
        "        font-size: 120%;\n",
        "        width:600px;\n",
        "        margin-left:auto;\n",
        "        margin-right:auto;\n",
        "    }\n",
        "    .CodeMirror{\n",
        "            font-family: \"Source Code Pro\", source-code-pro,Consolas, monospace;\n",
        "    }\n",
        "/*    .prompt{\n",
        "        display: None;\n",
        "    }*/\n",
        "    .text_cell_render h5 {\n",
        "        font-weight: 300;\n",
        "        font-size: 16pt;\n",
        "        color: #4057A1;\n",
        "        font-style: italic;\n",
        "        margin-bottom: .5em;\n",
        "        margin-top: 0.5em;\n",
        "        display: block;\n",
        "    }\n",
        "    \n",
        "    .warning{\n",
        "        color: rgb( 240, 20, 20 )\n",
        "        }  \n",
        "</style>\n",
        "<script>\n",
        "    MathJax.Hub.Config({\n",
        "                        TeX: {\n",
        "                           extensions: [\"AMSmath.js\"]\n",
        "                           },\n",
        "                tex2jax: {\n",
        "                    inlineMath: [ ['$','$'], [\"\\\\(\",\"\\\\)\"] ],\n",
        "                    displayMath: [ ['$$','$$'], [\"\\\\[\",\"\\\\]\"] ]\n",
        "                },\n",
        "                displayAlign: 'center', // Change this to 'center' to center equations.\n",
        "                \"HTML-CSS\": {\n",
        "                    styles: {'.MathJax_Display': {\"margin\": 4}}, \n",
        "                    scale: 125\n",
        "                }\n",
        "        });\n",
        "</script>\n"
       ],
       "metadata": {},
       "output_type": "pyout",
       "prompt_number": 20,
       "text": [
        "<IPython.core.display.HTML at 0x3b96790>"
       ]
      }
     ],
     "prompt_number": 20
    }
   ],
   "metadata": {}
  }
 ]
}