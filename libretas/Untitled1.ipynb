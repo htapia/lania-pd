{
 "metadata": {
  "name": "",
  "signature": "sha256:8e212a4c3c6f182793a16aadcab16fc0231d5b3a9173166731b721dc7c3adf16"
 },
 "nbformat": 3,
 "nbformat_minor": 0,
 "worksheets": [
  {
   "cells": [
    {
     "cell_type": "code",
     "collapsed": false,
     "input": [
      "from diffuse import *"
     ],
     "language": "python",
     "metadata": {},
     "outputs": [],
     "prompt_number": 1
    },
    {
     "cell_type": "code",
     "collapsed": false,
     "input": [
      "for gs in 2**np.arange(6,10):\n",
      "    print 'Grid Size: %sx%s'%(gs,gs)\n",
      "    print 'Pycuda jit:'\n",
      "    u = np.zeros((gs,gs))\n",
      "    %timeit super_fast_diffuse(u)"
     ],
     "language": "python",
     "metadata": {},
     "outputs": [
      {
       "output_type": "stream",
       "stream": "stdout",
       "text": [
        "Grid Size: 64x64\n",
        "Pycuda jit:\n",
        "1 loops, best of 3: 1.85 s per loop"
       ]
      },
      {
       "output_type": "stream",
       "stream": "stdout",
       "text": [
        "\n",
        "Grid Size: 128x128\n",
        "Pycuda jit:\n",
        "1 loops, best of 3: 1.87 s per loop"
       ]
      },
      {
       "output_type": "stream",
       "stream": "stdout",
       "text": [
        "\n",
        "Grid Size: 256x256\n",
        "Pycuda jit:\n",
        "1 loops, best of 3: 1.85 s per loop"
       ]
      },
      {
       "output_type": "stream",
       "stream": "stdout",
       "text": [
        "\n",
        "Grid Size: 512x512\n",
        "Pycuda jit:\n",
        "1 loops, best of 3: 4.81 s per loop"
       ]
      },
      {
       "output_type": "stream",
       "stream": "stdout",
       "text": [
        "\n"
       ]
      }
     ],
     "prompt_number": 2
    },
    {
     "cell_type": "code",
     "collapsed": false,
     "input": [],
     "language": "python",
     "metadata": {},
     "outputs": []
    }
   ],
   "metadata": {}
  }
 ]
}