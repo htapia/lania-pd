{
 "metadata": {
  "name": "",
  "signature": "sha256:492d5a3719ead710574129311f3e4c6fa45a43c01fa950c9baf8408188290b78"
 },
 "nbformat": 3,
 "nbformat_minor": 0,
 "worksheets": [
  {
   "cells": [
    {
     "cell_type": "code",
     "collapsed": false,
     "input": [
      "import numpy as np\n",
      "import matplotlib.pyplot as plt\n",
      "%matplotlib inline"
     ],
     "language": "python",
     "metadata": {},
     "outputs": []
    },
    {
     "cell_type": "markdown",
     "metadata": {},
     "source": [
      "# Ecuaci\u00f3n de Difusi\u00f3n\n",
      "[Enlace a Libreta] (http://nbviewer.ipython.org/github/htapia/lania-pd/blob/master/01_Libreta02_EcuacionDeDifusion.ipynb)\n",
      "\n",
      "## Objetivo:\n",
      "1. Implementar la soluci\u00f3n num\u00e9rica a la discretizaci\u00f3n de la ecuaci\u00f3n de difusi\u00f3n en 2D utilizando C\n",
      "\n",
      "## Metodologia\n",
      "Presentamos la implementaci\u00f3n del c\u00f3digo serial en el CPU utilizando el lenguaje de programaci\u00f3n C, por medio de interacciones directas con la libreta (es decir todo se desarrolla por medio de esta plataforma, haciendo uso del sistema operativo por medio de llamadas a trav\u00e9s de funciones que proporciona IPython Notebook). Se caracteriza el tiempo de ejecuci\u00f3n por medio de funciones nativas a C (implementadas en el c\u00f3digo) y por medio de la funci\u00f3n `timeit` propia de Python. Se omite la descripci\u00f3n del c\u00f3digo fuente de C pero se proporciona al final de la libreta."
     ]
    },
    {
     "cell_type": "markdown",
     "metadata": {},
     "source": [
      "##Tiempo de ejecuci\u00f3n en el CPU\n",
      "El c\u00f3digo fuente que implementa la soluci\u00f3n a trav\u00e9s de la soluci\u00f3n por diferencias finitas se presenta al final de la libreta. Se ha nombrado `difusionCPU.cu`, e incluye llamadas a funciones que miden el tiempo de ejecuci\u00f3n de las operaciones. Una vez compilado puede invocarse con  un argumento adicional que controla el tama\u00f1o de la malla, por ejemplo `diffusionCPU 64` calcula sobre una malla de 64x64. Por default la malla que se usa es de 512x512 y en todos los casos el n\u00famero de pasos de tiempo esta fijo en 40000. El c\u00f3digo regresa el tiempo de ejecuci\u00f3n en pantalla y guarda los datos de la distribuci\u00f3n de temperatura obtenida en un archivo externo, que despu\u00e9s puede usarse para graficarse.\n",
      "\n",
      "Primero compilamos el c\u00f3digo usando la siguiente instrucci\u00f3n:"
     ]
    },
    {
     "cell_type": "code",
     "collapsed": false,
     "input": [
      "!nvcc ../codes/difusionCPU.cu -o ../codes/difusionCPU"
     ],
     "language": "python",
     "metadata": {},
     "outputs": [],
     "prompt_number": 29
    },
    {
     "cell_type": "markdown",
     "metadata": {},
     "source": [
      "Ejecutamos el c\u00f3digo en el CPU para una malla de 512x512 (default) y 40000 pasos de tiempo (fijo)."
     ]
    },
    {
     "cell_type": "code",
     "collapsed": false,
     "input": [
      " !../codes/./difusionCPU"
     ],
     "language": "python",
     "metadata": {},
     "outputs": [
      {
       "output_type": "stream",
       "stream": "stdout",
       "text": [
        "N = 512\r\n"
       ]
      },
      {
       "output_type": "stream",
       "stream": "stdout",
       "text": [
        "time = 115.787\r\n"
       ]
      }
     ],
     "prompt_number": 10
    },
    {
     "cell_type": "markdown",
     "metadata": {},
     "source": [
      "El CPU tarda aproximadamente 2 minutos en ejecutar 40000 pasos de tiempo en una malla de 512x512. Este es nuestro primer referente. Repetir el experimento midiendo el tiempo desde Python utilizando la funci\u00f3n interna `timeit`:"
     ]
    },
    {
     "cell_type": "code",
     "collapsed": false,
     "input": [
      "%timeit !../codes/./difusionCPU"
     ],
     "language": "python",
     "metadata": {},
     "outputs": [
      {
       "output_type": "stream",
       "stream": "stdout",
       "text": [
        "N = 512\r\n"
       ]
      },
      {
       "output_type": "stream",
       "stream": "stdout",
       "text": [
        "time = 115.867\r\n"
       ]
      },
      {
       "output_type": "stream",
       "stream": "stdout",
       "text": [
        "N = 512\r\n"
       ]
      },
      {
       "output_type": "stream",
       "stream": "stdout",
       "text": [
        "time = 117.413\r\n"
       ]
      },
      {
       "output_type": "stream",
       "stream": "stdout",
       "text": [
        "N = 512\r\n"
       ]
      },
      {
       "output_type": "stream",
       "stream": "stdout",
       "text": [
        "time = 121.04\r\n"
       ]
      },
      {
       "output_type": "stream",
       "stream": "stdout",
       "text": [
        "N = 512\r\n"
       ]
      },
      {
       "output_type": "stream",
       "stream": "stdout",
       "text": [
        "time = 118.882\r\n"
       ]
      },
      {
       "output_type": "stream",
       "stream": "stdout",
       "text": [
        "1 loops, best of 3: 1min 58s per loop\n"
       ]
      }
     ],
     "prompt_number": 23
    },
    {
     "cell_type": "markdown",
     "metadata": {},
     "source": [
      "Las siguientes lineas de Python grafican la soluci[\u00f3n obtenida leyendo el archivo generado por el ejecutable:"
     ]
    },
    {
     "cell_type": "code",
     "collapsed": false,
     "input": [
      "data=np.fromfile('temperature_cpu.txt',sep=\"\\t\", dtype=np.float64)\n",
      "u = data.reshape(data.size/3,3)\n",
      "\n",
      "x = u[:,0]\n",
      "y = u[:,1]\n",
      "t = u[:,2]\n",
      "\n",
      "N = np.sqrt(len(x)) # Only if squared, adjust accordingly\n",
      "x = x.reshape((N, N))\n",
      "y = y.reshape((N, N))\n",
      "t = t.reshape((N, N))\n",
      "plt.pcolormesh(x, y, t, cmap=plt.cm.gnuplot)\n",
      "plt.axes().set_aspect('equal', 'box')"
     ],
     "language": "python",
     "metadata": {},
     "outputs": [
      {
       "metadata": {},
       "output_type": "display_data",
       "png": "[encoded data removed]",
       "text": [
        "<matplotlib.figure.Figure at 0x38abcd0>"
       ]
      }
     ],
     "prompt_number": 22
    },
    {
     "cell_type": "markdown",
     "metadata": {},
     "source": [
      "##Ejercicios\n",
      "\n",
      "1. Realiza varias mediciones de tiempo de ejecuci\u00f3n del programa serial de C para distintos tama\u00f1os de la malla.\n",
      "2. Medir el tiempo de ejecuci\u00f3 utilizando la funcion `timeit` y comparar las mediciones entre tiempos de ejecuci\u00f3n con funciones internas de C y con la de Python para distintos tama\u00f1os de las mallas."
     ]
    },
    {
     "cell_type": "markdown",
     "metadata": {},
     "source": [
      "##Material adicional\n",
      "A continuaci\u00f3n se presenta el listado del c\u00f3digo C."
     ]
    },
    {
     "cell_type": "code",
     "collapsed": false,
     "input": [
      "%load ../codes/difusionCPU.cu"
     ],
     "language": "python",
     "metadata": {},
     "outputs": [],
     "prompt_number": 28
    },
    {
     "cell_type": "code",
     "collapsed": false,
     "input": [
      "// Codigo serial para resolver la ecuacion de difusion en 2D //\n",
      "#include <iostream>\n",
      "#include <fstream>\n",
      "#include <cmath>\n",
      "#include <stdio.h>\n",
      "#include <sys/time.h>\n",
      "\n",
      "double get_time() \n",
      "{  struct timeval tim;\n",
      "  gettimeofday(&tim, NULL);\n",
      "  return (double) tim.tv_sec+(tim.tv_usec/1000000.0);\n",
      "}\n",
      "\n",
      "\n",
      "void update (float *u, float *u_prev, int N, float h, float dt, float alpha)\n",
      "{\n",
      "\tint I;\n",
      "\tfor (int j=0; j<N; j++)\n",
      "\t{\tfor (int i=0; i<N; i++)\n",
      "\t\t{\tI = j*N+i;\n",
      "\t\t\tu_prev[I] = u[I];\n",
      "\t\t}\n",
      "\t}\n",
      "\n",
      "\tfor (int j=1; j<N-1; j++)\n",
      "\t{\tfor (int i=1; i<N-1; i++)\n",
      "\t\t{\tI = j*N+i;\n",
      "\t\t\tu[I] = u_prev[I] + alpha*dt/(h*h) * (u_prev[I+1] + u_prev[I-1] + u_prev[I+N] + u_prev[I-N] - 4*u_prev[I]);\n",
      "\t\t}\n",
      "\t}\n",
      "\t\n",
      "\t// Boundary conditions are automatically imposed\n",
      "\t// as we don't touch boundaries\n",
      "}\n",
      "\n",
      "int main(int argc, char**argv)\n",
      "{\n",
      "\tint N;\n",
      "    if(argc == 1) {\n",
      "        N = 512;\n",
      "    } else if(argc == 2) {\n",
      "        N = atoi(argv[1]);\n",
      "    } else {\n",
      "        printf(\"\\n    Parametros no validos!\"\n",
      "           \"\\n    Uso: ./difusionCPU               # malla\"\n",
      "           \"\\n    Uso: ./difusionCPU <N>           # malla\"\n",
      "           \"\\n\");\n",
      "        exit(0);\n",
      "    }\n",
      "\t// Allocate in CPU\n",
      "    //\tint N = 512;\n",
      "\n",
      "\tfloat xmin \t= 0.0f;\n",
      "\tfloat xmax \t= 3.5f;\n",
      "\tfloat ymin \t= 0.0f;\n",
      "\t//float ymax \t= 2.0f;\n",
      "\tfloat h   \t= (xmax-xmin)/(N-1);\n",
      "\tfloat dt\t= 0.00001f;\t\n",
      "\tfloat alpha\t= 0.645f;\n",
      "\tfloat time \t= 0.4f;\n",
      "\n",
      "\tint steps = ceil(time/dt);\n",
      "\tint I;\n",
      "\n",
      "\tfloat *x  \t= new float[N*N]; \n",
      "\tfloat *y  \t= new float[N*N]; \n",
      "\tfloat *u  \t= new float[N*N];\n",
      "\tfloat *u_prev  \t= new float[N*N];\n",
      "\n",
      "    std::cout<<\"N = \"<<N<<std::endl;\n",
      "    \n",
      "\t// Generate mesh and intial condition\n",
      "\tfor (int j=0; j<N; j++)\n",
      "\t{\tfor (int i=0; i<N; i++)\n",
      "\t\t{\tI = N*j + i;\n",
      "\t\t\tx[I] = xmin + h*i;\n",
      "\t\t\ty[I] = ymin + h*j;\n",
      "\t\t\tu[I] = 0.0f;\n",
      "\t\t\tif ( (i==0) || (j==0)) \n",
      "\t\t\t\t{u[I] = 200.0f;}\n",
      "\t\t}\n",
      "\t}\n",
      "\n",
      "\t// Loop \n",
      "\tdouble start = get_time();\n",
      "\tfor (int t=0; t<steps; t++)\n",
      "\t{\tupdate (u, u_prev, N, h, dt, alpha);\n",
      "\t}\n",
      "\tdouble stop = get_time();\n",
      "\t\n",
      "\tdouble elapsed = stop - start;\n",
      "\tstd::cout<<\"time = \"<<elapsed<<std::endl;\n",
      "\n",
      "\tstd::ofstream temperature(\"temperature_cpu.txt\");\n",
      "\tfor (int j=0; j<N; j++)\n",
      "\t{\tfor (int i=0; i<N; i++)\n",
      "\t\t{\tI = N*j + i;\n",
      "\t\t//\tstd::cout<<u[I]<<\"\\t\";\n",
      "\t\t\ttemperature<<x[I]<<\"\\t\"<<y[I]<<\"\\t\"<<u[I]<<std::endl;\n",
      "\t\t}\n",
      "\t\ttemperature<<\"\\n\";\n",
      "\t\t//std::cout<<std::endl;\n",
      "\t}\n",
      "\n",
      "\ttemperature.close();\n",
      "}"
     ],
     "language": "python",
     "metadata": {},
     "outputs": []
    }
   ],
   "metadata": {}
  }
 ]
}