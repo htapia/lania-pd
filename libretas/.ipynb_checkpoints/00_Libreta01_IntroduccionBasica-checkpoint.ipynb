{
 "metadata": {
  "name": "",
  "signature": "sha256:3af1706c93ebe00f1bd4ca257fb84d81bde31e33280ac75734087325f3fecf03"
 },
 "nbformat": 3,
 "nbformat_minor": 0,
 "worksheets": [
  {
   "cells": [
    {
     "cell_type": "markdown",
     "metadata": {},
     "source": [
      "# Libreta de practica de IPython Notebook\n",
      "Utiliza esta libreta para iniciarte con este ambiente que estaremos usando."
     ]
    },
    {
     "cell_type": "code",
     "collapsed": false,
     "input": [
      "# Este es un comentario de Python\n",
      "# Ejecuta esta celda presionando simultaneamente las teclas Shift y Return\n",
      "import numpy as np\n",
      "import matplotlib.pyplot as plt\n",
      "%matplotlib inline"
     ],
     "language": "python",
     "metadata": {},
     "outputs": [],
     "prompt_number": 1
    },
    {
     "cell_type": "markdown",
     "metadata": {},
     "source": [
      "##Ecuaci\u00f3n de difusi\u00f3n 1D\n",
      "Completa lo que hace falta para que puedas ejecutar correctamente el c\u00f3digo."
     ]
    },
    {
     "cell_type": "code",
     "collapsed": false,
     "input": [
      "nx = 32\n",
      "nt = 20\n",
      "alpha =\n",
      "Lx = 3.5\n",
      "dx = \n",
      "dt = 1e-"
     ],
     "language": "python",
     "metadata": {},
     "outputs": []
    },
    {
     "cell_type": "markdown",
     "metadata": {},
     "source": [
      "La celda siguiente resuelva la ecuaci\u00f3n de difusi\u00f3n en 1D:\n",
      "\n",
      "\n",
      "$$\\frac{\\partial u}{\\partial t}= \\alpha \\frac{\\partial^2 u}{\\partial x^2}$$\n",
      "\n",
      "Con el m\u00e9todo de diferencias finitas:\n",
      "\n",
      "$u_{i+1} = u_i + \\Delta x \\frac{\\partial u}{\\partial x}\\bigg|_i + \\frac{\\Delta x^2}{2} \\frac{\\partial ^2 u}{\\partial x^2}\\bigg|_i + \\frac{\\Delta x^3}{3} \\frac{\\partial ^3 u}{\\partial x^3}\\bigg|_i + O(\\Delta x^4)$\n",
      "\n",
      "$u_{i-1} = u_i - \\Delta x \\frac{\\partial u}{\\partial x}\\bigg|_i + \\frac{\\Delta x^2}{2} \\frac{\\partial ^2 u}{\\partial x^2}\\bigg|_i - \\frac{\\Delta x^3}{3} \\frac{\\partial ^3 u}{\\partial x^3}\\bigg|_i + O(\\Delta x^4)$\n",
      "\n",
      "que nos da\n",
      "\n",
      "$u_{i+1} + u_{i-1} = 2u_i+\\Delta x^2 \\frac{\\partial ^2 u}{\\partial x^2}\\bigg|_i + O(\\Delta x^4)$\n",
      "\n",
      "Rearregla para resolver para $\\frac{\\partial ^2 u}{\\partial x^2}\\bigg|_i$ y el resultado es:\n",
      "\n",
      "$$\\frac{\\partial ^2 u}{\\partial x^2}=\\frac{u_{i+1}-2u_{i}+u_{i-1}}{\\Delta x^2} + O(\\Delta x^2)$$\n",
      "\n",
      "La version discretizada de la ecuaci\u00f3n de difusi\u00f3n en 1D es entonces:\n",
      "\n",
      "$$\\frac{u_{i}^{n+1}-u_{i}^{n}}{\\Delta t}=\\alpha\\frac{u_{i+1}^{n}-2u_{i}^{n}+u_{i-1}^{n}}{\\Delta x^2}$$\n",
      "\n",
      "Una vez que se tienen una condici\u00f3n inicial la \u00fanica inc\u00f3gnita es $u_{i}^{n+1}$, asi que si rearreglamos la ecuaci\u00f3n podemos resolver para esta desconocida:\n",
      "\n",
      "$$u_{i}^{n+1}=u_{i}^{n}+\\frac{\\nu\\Delta t}{\\Delta x^2}(u_{i+1}^{n}-2u_{i}^{n}+u_{i-1}^{n})$$\n",
      "\n",
      "La ecuaci\u00f3n discreta anterior permite escribir un programa que avanza la soluci\u00f3n en el tiempo. Se necesita una condici\u00f3n inicial C.I.. Usaremos una funci\u00f3n gorro: en  $t=0$, $u=2$ en el intervalo $0.5\\le x\\le 1$ and $u=1$ en cualquier otro lado.\n"
     ]
    },
    {
     "cell_type": "code",
     "collapsed": false,
     "input": [
      "# Completa lo que falta en la celda para poderla ejecutar\n",
      "\n",
      "u = np.ones(nx)      # un arreglo de numpy con nx elementos todos iguales a 1.\n",
      "u[.5/dx : 1/dx+1]=2  # si hacemos u = 2 entre 0.5 y 1 tenemos una C.I.\n",
      "\n",
      "un = np.ones(nx) # arreglo temporal para avanzar la soluci\u00f3n en el tiempo\n",
      "\n",
      "for n in range():  # itera el tiempo\n",
      "    un[:] = u[:]     # copia los valores existentes de u a un\n",
      "    for i in range(,): # itera en el espacio\n",
      "        u[i] = un[i] + alpha*dt/dx**2*(un[i+1]-2*un[i]+un[i-1])"
     ],
     "language": "python",
     "metadata": {},
     "outputs": []
    },
    {
     "cell_type": "markdown",
     "metadata": {},
     "source": [
      "Ahora mide el tiempo de ejecuci\u00f3n para obtener la soluci\u00f3n."
     ]
    },
    {
     "cell_type": "code",
     "collapsed": false,
     "input": [
      "# Grafica la solucion, pero antes completa las instrucciones correctamente\n",
      "plt.plot(,)"
     ],
     "language": "python",
     "metadata": {},
     "outputs": []
    }
   ],
   "metadata": {}
  }
 ]
}