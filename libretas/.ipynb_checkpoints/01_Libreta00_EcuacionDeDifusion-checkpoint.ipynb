{
 "metadata": {
  "name": "",
  "signature": "sha256:10d1b48286c7bc5f9e5171988cdb67189dd6e31cca170b8113f55197ad6a4319"
 },
 "nbformat": 3,
 "nbformat_minor": 0,
 "worksheets": [
  {
   "cells": [
    {
     "cell_type": "markdown",
     "metadata": {},
     "source": [
      "# Ecuaci\u00f3n de Difusi\u00f3n\n",
      "[Enlace a Libreta] (http://nbviewer.ipython.org/github/htapia/lania-pd/blob/master/01_Libreta01_.ipynb)\n",
      "\n",
      "## Objetivo:\n",
      "1. Presentar la ecuaci\u00f3n de difusi\u00f3n en 2D y su discretizaci\u00f3n\n",
      "\n",
      "## Metodologia\n",
      "La ecuaci\u00f3n de difusi\u00f3n en 2D es una ecuaci\u00f3n diferencial parcial que en coordenadas cartesianas se escribe\n",
      "\n",
      "$$\\frac{\\partial u}{\\partial t} = \\alpha \\frac{\\partial^2 u}{\\partial x^2} + \\alpha \\frac{\\partial^2 u}{\\partial y^2}.$$\n",
      "\n",
      "En este ejemplo la funci\u00f3n $u=u(x,y,t)$ representa la distribuci\u00f3n de temperatura en una regi\u00f3n del espacio como se muestra en la siguiente figura: ![Distribuci\u00f3n de temperatura en una regi\u00f3n del espacio bidimensional](files/ic.png)\n",
      "\n",
      "La constante num\u00e9rica $\\alpha$ es un n\u00famero real positivo y se conoce como _coeficiente de difusi\u00f3n t\u00e9rmica_ y representa la habilidad de un material para conducir la energ\u00eda t\u00e9rmica en raz\u00f3n a la habilidad que tiene para almacenarla.\n",
      "\n",
      "Si dividimos la regi\u00f3n de inter\u00e9s en una cuadr\u00edcula discreta y cada nodo $(i,j)$ representa una coordenada $(x,y)$. El tiempo tambi\u00e9n puede discretizarse en intervalos de tama\u00f1o $dt$ modo que $t_n = n*dt$. Asi, el valor de la funci\u00f3n $u$ sobre la regi\u00f3n dividida en un instante de tiempo puede representarse por sus valores discretos como $u=u(x,y,t)=u_{i,j,ndt}$. Es com\u00fan escribir \u00e9sta discretizaci\u00f3n de la siguiente forma: \n",
      "\n",
      "$$ u_{i,j}(ndt) = u^n_{i,j}, $$ \n",
      "\n",
      "que permite manipularlo como si fuera una expresi\u00f3n algebraica.\n",
      "\n",
      "La ecuaci\u00f3n de difusi\u00f3n puede discretizarse utilizando un m\u00e9todo de diferencias finitas. Este aproxima la derivada de una funci\u00f3n de la siguiente forma: \n",
      "\n",
      "$$ \\frac{\\partial u}{\\partial x} \\approx \\frac{u(x+\\Delta x)-u(x)}{\\Delta x} \\approx \\frac{u_{i+1}-u_i}{\\Delta x}$$ \n",
      "\n",
      "donde $\\Delta x$ es el tama\u00f1o del intervalo usado en la partici\u00f3n. Esta discretizaci\u00f3n se conoce como diferencia finita avanzada (o hacia adelante); en contraste, la diferencia finita retrasada (o hacia atr\u00e1s) se representa como: \n",
      "\n",
      "$$ \\frac{\\partial u}{\\partial x}\\approx \\frac{u_{i}-u_{i-1}}{\\Delta x},$$ \n",
      "\n",
      "(la diferencia est\u00e1 en el signo del \u00edndice $i$). Esta aproximaci\u00f3n puede generalizarse a dos dimensiones y aplicarse tambi\u00e9n a la coordenada temporal, asi como a la segunda derivada. Por este m\u00e9todo se obtiene la siguiente _representaci\u00f3n discreta de la ecuaci\u00f3n diferencial_ (de difusi\u00f3n):\n",
      "\n",
      "$$\\frac{u^{n+1}_{i,j}-u^n_{i,j}}{\\Delta t} = \\alpha \\frac{u^n_{i+1,j}-2u^n_{i,j}+u^n_{i-1,j}}{\\Delta x^2} + \\alpha \\frac{u^n_{i,j+1}-2u^n_{i,j}+u^n_{i,j-1}}{\\Delta y^2}$$\n",
      "\n",
      "que, reorganizando, permite resolver para $u^{n+1}_{i,j}$: \n",
      "\n",
      "$$u^{n+1}_{i,j} = u^n_{i,j} + \\frac{\\alpha \\Delta t}{\\Delta x^2}(u^n_{i+1,j}-2u^n_{i,j}+u^n_{i-1,j}) + \\frac{\\alpha \\Delta t}{\\Delta y^2}(u^n_{i,j+1}-2u^n_{i,j}+u^n_{i,j-1})$$\n",
      "\n",
      "Esta \u00faltima representaci\u00f3n es la que utilizaremos para encontrar una soluci\u00f3n num\u00e9rica a la ecuaci\u00f3n de difusi\u00f3n. El problema que vamos a desarrollar consiste en encontrar la distribuci\u00f3n final de temperatura en una regi\u00f3n cuadricual de dimensiones $L_x = L_y = L = 3.5 [u.a.]$, partiendo de una distribuci\u00f3n en la que la temperatura inicial es $T_0 = 200 [u.a.]$ a todo lo largo de la pared izquierda y de la base del cuadrado. Esta situaci\u00f3n se muestra en la figura anterior, donde la distribuci\u00f3n inicial de temperatura esta en color amarillo, mientras que el color negro indica que toda esa regi\u00f3n del cuadrado tiene una temperatura nula $T = 0 [u.a.]$. \n",
      "\n",
      "La soluci\u00f3n num\u00e9rica se obtiene dividiendo la regi\u00f3n del cuadrado en una malla regular $n \\times n$ como se muestra en la siguiente figura: ![Divisi\u00f3n del cuadrado en una malla regular de $n_x /times n_y$.](files/grid.png) donde se ha usado $n_x=n_y=8$, y en cada uno de los pasos de tiempo se calcula el valor de $u_{i,j}$ usando la discretizaci\u00f3n de la ecuaci\u00f3n diferencial. Este proceso se repite hasata alcanzar el total de pasos de tiempo deseado. Un ejemplo de la distribuci\u00f3n final de la temperatura dentro del cuadrado se muestra en la siguiente figura: ![Ejemplo de la distribuci\u00f3n final de temperatura](files/sol_100.png) donde se ha calculado la soluci\u00f3n durante $n=100$ pasos de tiempo sobre una malla de $n_x=n_y=64$."
     ]
    },
    {
     "cell_type": "markdown",
     "metadata": {},
     "source": [
      "# Soluci[on num\u00e9rica de la ecuaci\u00f3n de difusion en 2D\n",
      "Ahora tienes todas las herramientas para buscar la soluci\u00f3n a la ecuacion de difusion en 2D; basicamente solo tienes que extender lo que viste en las libretas anteriorer a una dimension mas...aqui va un programa para que lo completes y ejecutes. Considera que faltan cosas en este programa para que funcione bien..."
     ]
    },
    {
     "cell_type": "code",
     "collapsed": false,
     "input": [
      "# Completa lo que falta y no te olvides de incluir llamados a librer\u00edas, definir variables que no aparecen a\u00fan, etc.\n",
      "\n",
      "# numero de celdas para malla en x\n",
      "nx =\n",
      "# numero de celdas para malla en y\n",
      "ny =\n",
      "# tamam\u00f1o del intervalo en x\n",
      "dx =\n",
      "# tamam\u00f1o del intervalo en y\n",
      "dy =\n",
      "# condicion inicial\n",
      "u0 = \n",
      "# inicializa un array antes para ayudar a la memoria\n",
      "u = np.ones((ny,nx))\n",
      "\n",
      "# completa el loop\n",
      "for n in range(): # loop sobre el numero de pasos de tiempo\n",
      "    un[:] = u[:]\n",
      "    for i in range(1, ):\n",
      "        for j in range(1, ):\n",
      "            u[i,j] = un[i, j] - (alpha*dt/dx*(un[] - un[]))-(*dt/*(un[]-un[]))\n",
      "            # Define la condicion inicial correctamente\n",
      "            u[0,:] = \n",
      "            u[-1,:] = \n",
      "            u[:,0] = \n",
      "            u[:,-1] = "
     ],
     "language": "python",
     "metadata": {},
     "outputs": []
    }
   ],
   "metadata": {}
  }
 ]
}