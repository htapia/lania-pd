{
 "metadata": {
  "name": "",
  "signature": "sha256:0d6a668d44ed3d55d8d7fbcd08a4f74ca59f7697856f083cc73cbe29e2046597"
 },
 "nbformat": 3,
 "nbformat_minor": 0,
 "worksheets": [
  {
   "cells": [
    {
     "cell_type": "markdown",
     "metadata": {},
     "source": [
      "# Libreta de practica de IPython Notebook\n",
      "Utiliza esta libreta para iniciarte con este ambiente que estaremos usando."
     ]
    },
    {
     "cell_type": "code",
     "collapsed": false,
     "input": [
      "# Este es un comentario de Python\n",
      "# Ejecuta esta celda presionando simultaneamente las teclas Shift y Return\n",
      "import numpy as np\n",
      "import matplotlib.pyplot as plt\n",
      "%matplotlib inline"
     ],
     "language": "python",
     "metadata": {},
     "outputs": [],
     "prompt_number": 1
    },
    {
     "cell_type": "markdown",
     "metadata": {},
     "source": [
      "La instrucci\u00f3n `import ...` carga librerias con funciones. Por ejemplo `import np` carga `NumPy` renombrandola como `np` de modo que para acceder a las funciones de esta libreria se debe anteceder por `np.`   \n",
      "`NumPy` permite manipular arreglos como en Matlab. \n",
      "`Matplotlib` incluye funciones para graficar\n",
      "`%matplotlib inline` permite ver las gr\u00e1ficas sin salirte de esta libreta.\n",
      "\n",
      "Si se presenta algun error hay que revisar tu instalaci\u00f3n."
     ]
    },
    {
     "cell_type": "code",
     "collapsed": false,
     "input": [
      "# Evalua esta celda y explica en una nueva celda de texto que hace este codigo.\n",
      "u = np.array([0,1,2,3,4,5])\n",
      "\n",
      "for i in range(1,len(u)):a\n",
      "    print u[i]-u[i-1]"
     ],
     "language": "python",
     "metadata": {},
     "outputs": []
    },
    {
     "cell_type": "markdown",
     "metadata": {},
     "source": [
      "Este resultado, esperado, se ha obtenido casi de manera instant\u00e1nea. Si realizaramos la misma operaci\u00f3n usando operaciones entre arreglos, podemos obtener el mismo resultado en un solo comando en lugar de calcular $u^n_i - u^n_{i-1}$ 5 veces por separado:"
     ]
    },
    {
     "cell_type": "code",
     "collapsed": false,
     "input": [
      "u[1:]-u[0:-1]"
     ],
     "language": "python",
     "metadata": {},
     "outputs": [
      {
       "metadata": {},
       "output_type": "pyout",
       "prompt_number": 6,
       "text": [
        "array([1, 1, 1, 1, 1])"
       ]
      }
     ],
     "prompt_number": 6
    },
    {
     "cell_type": "markdown",
     "metadata": {},
     "source": [
      "Explica con tus palabras que esta haciendo el comando anterior."
     ]
    },
    {
     "cell_type": "markdown",
     "metadata": {},
     "source": [
      "##Ejemplo de un FOR loop en Python\n",
      "En la siguiente celdas, completa lo que hace falta para que puedas ejecutar correctamente el c\u00f3digo."
     ]
    },
    {
     "cell_type": "code",
     "collapsed": false,
     "input": [
      "nx = 32\n",
      "nt = 100\n",
      "c = 1.0\n",
      "Lx = 3.5\n",
      "dx = \n",
      "dt = 1e-"
     ],
     "language": "python",
     "metadata": {},
     "outputs": []
    },
    {
     "cell_type": "markdown",
     "metadata": {},
     "source": [
      "Ejecuta la celda que sigue y despu\u00e9s en una nueva celda escribe y ejecuta la instrucci\u00f3n `print u`"
     ]
    },
    {
     "cell_type": "code",
     "collapsed": false,
     "input": [
      "u = np.ones(nx)\n",
      "un = np.ones(nx)"
     ],
     "language": "python",
     "metadata": {},
     "outputs": []
    },
    {
     "cell_type": "markdown",
     "metadata": {},
     "source": [
      "Ahora ejecuta la instrucci\u00f3n `print un` y discute lo que ocurre."
     ]
    },
    {
     "cell_type": "code",
     "collapsed": false,
     "input": [
      "# Antes de ejecutar la siguiente celda escribe que es lo que crees que hace esta instrucci\u00f3n y despues ejec\u00fatala.\n",
      "u[0.5/dx : 1/dx+1] = 2"
     ],
     "language": "python",
     "metadata": {},
     "outputs": [],
     "prompt_number": 11
    },
    {
     "cell_type": "code",
     "collapsed": false,
     "input": [
      "# Completa la celda antes de ejecutarla!\n",
      "x = np.linspace(0,Lx,nx)\n",
      "\n",
      "plt.plot(x,);\n",
      "# Una vez ejecutada discute sobre lo que se obtiene en una nueva celda de texto"
     ],
     "language": "python",
     "metadata": {},
     "outputs": []
    },
    {
     "cell_type": "markdown",
     "metadata": {},
     "source": [
      "Antes de ejecutar la celda que sigue, piensa sobre que va a ocurrir cuando termine de ejecutarse. \u00bfCrees que tardar\u00e1 mucho en ejecutarse?"
     ]
    },
    {
     "cell_type": "code",
     "collapsed": false,
     "input": [
      "# Completa los comandos y ejecuta la celda\n",
      "for n in range():             # for loop para el tiempo\n",
      "    un = u.copy()\n",
      "    for i in range(1,):     # for loop para la dimensi\u00f3n espacial \n",
      "        u[i] = un[i] - c*dt/dx*(un[i]-un[i-1])\n"
     ],
     "language": "python",
     "metadata": {},
     "outputs": []
    },
    {
     "cell_type": "code",
     "collapsed": false,
     "input": [
      "# Completa para graficar y ejecuta. Discute sobre lo que obtienes en una nueva celda de texto.\n",
      "plt.plot(,)"
     ],
     "language": "python",
     "metadata": {},
     "outputs": []
    },
    {
     "cell_type": "markdown",
     "metadata": {},
     "source": [
      "Discute sobre lo que ocurre cuando ejecutas la siguiente celda."
     ]
    },
    {
     "cell_type": "code",
     "collapsed": false,
     "input": [
      "%%timeit \n",
      "\n",
      "u = np.ones(nx)\n",
      "u[0.5/dx : 1/dx+1] = 2\n",
      "\n",
      "for n in range(nt):\n",
      "    un = u.copy()\n",
      "    for i in range(1,nx):\n",
      "        u[i] = un[i] - c*dt/dx*(un[i]-un[i-1])\n"
     ],
     "language": "python",
     "metadata": {},
     "outputs": []
    },
    {
     "cell_type": "markdown",
     "metadata": {},
     "source": [
      "La funci\u00f3n `%%timeit` es un ejemplo de lo que en IPython se conoce como _funci\u00f3n m\u00e1gica_ lo que hace es un promedio de los tiempos de ejecuci\u00f3n de las instrucciones que aparezcan en la correspondiente celda. Puedes lees mas en la documentaci\u00f3n ejecutando la siguiente celda."
     ]
    },
    {
     "cell_type": "code",
     "collapsed": false,
     "input": [
      "timeit?"
     ],
     "language": "python",
     "metadata": {},
     "outputs": [],
     "prompt_number": 7
    },
    {
     "cell_type": "markdown",
     "metadata": {},
     "source": [
      "En Python, puedes acceder a la documentacion de cualquier funci\u00f3n, m\u00e9todo o clase escribiendo el nombre y un signo de interrogaci\u00f3n al final como en la celda anterior. Por ejemplo\n",
      "\n",
      "    matplotlib?\n",
      "    np.plot?\n",
      "    range?\n",
      "    np.linspace?\n",
      "    print?"
     ]
    }
   ],
   "metadata": {}
  }
 ]
}