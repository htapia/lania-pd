{
 "metadata": {
  "name": ""
 },
 "nbformat": 3,
 "nbformat_minor": 0,
 "worksheets": [
  {
   "cells": [
    {
     "cell_type": "code",
     "collapsed": false,
     "input": [
      "%%file fftsimple.py\n",
      "'''\n",
      "This script executes 2D FFT convolution on images in grayscale.\n",
      "\n",
      "Usage:\n",
      "\n",
      "Run without argument will use builtin Lena image:\n",
      "\n",
      "    python fftsimple.py\n",
      "    \n",
      "Or, specify an image to use\n",
      "\n",
      "    python fftsimple.py myimage.jpg\n",
      "    python fftsimple.py myimage.png\n",
      "\n",
      "\n",
      "= Getting The Requirements =\n",
      "\n",
      "For Conda user, run the following to ensure the dependencies are fulfilled:\n",
      "\n",
      "    conda install scipy matplotlib\n",
      "    \n",
      "You may need to install PIL from pip.\n",
      "\n",
      "    conda install pip\n",
      "    pip install PIL\n",
      "\n",
      "'''\n",
      "\n",
      "import sys\n",
      "import numpy as np\n",
      "from scipy.signal import fftconvolve\n",
      "from scipy import misc, ndimage\n",
      "from matplotlib import pyplot as plt\n",
      "from numbapro.cudalib import cufft\n",
      "from numbapro import cuda, vectorize\n",
      "from timeit import default_timer as timer\n",
      "\n",
      "@vectorize(['complex64(complex64, complex64)'], target='gpu')\n",
      "def vmult(a, b):\n",
      "    return a * b\n",
      "\n",
      "def best_grid_size(size, tpb):\n",
      "    bpg = np.ceil(np.array(size, dtype=np.float) / tpb).astype(np.int).tolist()\n",
      "    return tuple(bpg)\n",
      "\n",
      "def main():\n",
      "    # Build Filter\n",
      "    laplacian_pts = '''\n",
      "    -4 -1 0 -1 -4\n",
      "    -1 2 3 2 -1\n",
      "    0 3 4 3 0\n",
      "    -1 2 3 2 -1\n",
      "    -4 -1 0 -1 -4\n",
      "    '''.split()\n",
      "\n",
      "    laplacian = np.array(laplacian_pts, dtype=np.float32).reshape(5, 5)\n",
      "\n",
      "    # Build Image\n",
      "    try:\n",
      "        filename = sys.argv[1]\n",
      "        image = ndimage.imread(filename, flatten=True).astype(np.float32)\n",
      "    except IndexError:\n",
      "        image = misc.lena().astype(np.float32)\n",
      "\n",
      "    print(\"Image size: %s\" % (image.shape,))\n",
      "\n",
      "    response = np.zeros_like(image)\n",
      "    response[:5, :5] = laplacian\n",
      "\n",
      "    # CPU\n",
      "    ts = timer()\n",
      "    cvimage_cpu = fftconvolve(image, laplacian, mode='same')\n",
      "    te = timer()\n",
      "    print('CPU: %.2fs' % (te - ts))\n",
      "\n",
      "    # GPU\n",
      "    threadperblock = 32, 8\n",
      "    blockpergrid = best_grid_size(tuple(reversed(image.shape)), threadperblock)\n",
      "    print('kernel config: %s x %s' % (blockpergrid, threadperblock))\n",
      "\n",
      "    # Trigger initialization the cuFFT system.\n",
      "    # This takes significant time for small dataset.\n",
      "    # We should not be including the time wasted here\n",
      "    cufft.FFTPlan(shape=image.shape, itype=np.complex64, otype=np.complex64)\n",
      "\n",
      "    # Start GPU timer\n",
      "    ts = timer()\n",
      "    image_complex = image.astype(np.complex64)\n",
      "    response_complex = response.astype(np.complex64)\n",
      "\n",
      "    d_image_complex = cuda.to_device(image_complex)\n",
      "    d_response_complex = cuda.to_device(response_complex)\n",
      "\n",
      "    cufft.fft_inplace(d_image_complex)\n",
      "    cufft.fft_inplace(d_response_complex)\n",
      "\n",
      "    vmult(d_image_complex, d_response_complex, out=d_image_complex)\n",
      "\n",
      "    cufft.ifft_inplace(d_image_complex)\n",
      "\n",
      "    cvimage_gpu = d_image_complex.copy_to_host().real / np.prod(image.shape)\n",
      "\n",
      "    te = timer()\n",
      "    print('GPU: %.2fs' % (te - ts))\n",
      "\n",
      "    # Plot the results\n",
      "    plt.subplot(1, 2, 1)\n",
      "    plt.title('CPU')\n",
      "    plt.imshow(cvimage_cpu, cmap=plt.cm.gray)\n",
      "    plt.axis('off')\n",
      "\n",
      "    plt.subplot(1, 2, 2)\n",
      "    plt.title('GPU')\n",
      "    plt.imshow(cvimage_gpu, cmap=plt.cm.gray)\n",
      "    plt.axis('off')\n",
      "\n",
      "    plt.show()\n",
      "\n",
      "if __name__ == '__main__':\n",
      "    main()\n"
     ],
     "language": "python",
     "metadata": {},
     "outputs": [
      {
       "output_type": "stream",
       "stream": "stdout",
       "text": [
        "Writing fftsimple.py\n"
       ]
      }
     ],
     "prompt_number": 2
    },
    {
     "cell_type": "code",
     "collapsed": false,
     "input": [
      "pwd"
     ],
     "language": "python",
     "metadata": {},
     "outputs": [
      {
       "metadata": {},
       "output_type": "pyout",
       "prompt_number": 3,
       "text": [
        "u'/home/htapia/.dropbox-lania/Dropbox/proyectos/lania-pd/python_nb'"
       ]
      }
     ],
     "prompt_number": 3
    },
    {
     "cell_type": "code",
     "collapsed": false,
     "input": [
      "!python fftsimple.py"
     ],
     "language": "python",
     "metadata": {},
     "outputs": [
      {
       "output_type": "stream",
       "stream": "stdout",
       "text": [
        "Image size: (512, 512)\r\n"
       ]
      },
      {
       "output_type": "stream",
       "stream": "stdout",
       "text": [
        "CPU: 0.08s\r\n",
        "kernel config: (16, 64) x (32, 8)\r\n"
       ]
      },
      {
       "output_type": "stream",
       "stream": "stdout",
       "text": [
        "GPU: 0.06s\r\n"
       ]
      }
     ],
     "prompt_number": 4
    },
    {
     "cell_type": "code",
     "collapsed": false,
     "input": [],
     "language": "python",
     "metadata": {},
     "outputs": []
    }
   ],
   "metadata": {}
  }
 ]
}