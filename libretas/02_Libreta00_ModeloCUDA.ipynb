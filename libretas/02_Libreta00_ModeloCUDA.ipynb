{
 "metadata": {
  "name": ""
 },
 "nbformat": 3,
 "nbformat_minor": 0,
 "worksheets": [
  {
   "cells": [
    {
     "cell_type": "markdown",
     "metadata": {
      "slideshow": {
       "slide_type": "slide"
      }
     },
     "source": [
      "#Introducci\u00f3n a CUDA\n",
      "\n",
      "Presentamos brevemente el modelo de programaci\u00f3n de CUDA con un ejemplo trivial de suma de vectores: si \n",
      "\n",
      "$$a=[a_1, a_2, \\cdots , a_n]$$ \n",
      "y\n",
      "\n",
      "$$b=[b_1, b_2, \\cdots , b_n]$$ \n",
      "\n",
      "son vectores de longitud $n$, la suma est\u00e1 definida por \n",
      "\n",
      "$$c=a+b=[a_1+b_1, a_2+b_2, \\cdots , a_n+b_n].$$\n",
      "\n",
      "Primero resolveremos el problema en Python, despu\u00e9s presentaremos el listado en C y finalmente discutiremos el modelo CUDA."
     ]
    },
    {
     "cell_type": "code",
     "collapsed": false,
     "input": [
      "# suma en Python\n",
      "import numpy as np\n",
      "\n",
      "n = 10000\n",
      "a = np.random.rand(n)\n",
      "b = np.random.rand(n)\n",
      "c = a+b\n",
      "print c"
     ],
     "language": "python",
     "metadata": {},
     "outputs": [
      {
       "output_type": "stream",
       "stream": "stdout",
       "text": [
        "[ 0.49213672  0.70173065  0.56049733 ...,  1.07990704  1.22147664\n",
        "  1.01061823]\n"
       ]
      }
     ],
     "prompt_number": 6
    },
    {
     "cell_type": "markdown",
     "metadata": {
      "slideshow": {
       "slide_type": "slide"
      }
     },
     "source": [
      "###2. Listado C tradicional\n",
      "El problema puede resolverse de la siguiente manera utilizando el lenguaje C tradicional (el listado completo puede consultarse en el material adicional):\n",
      "\n",
      "    void vecSumCPU(float* A, float* B, float* C, int n)\n",
      "    {\n",
      "        int tid = 0;    // el primer CPU del sistema\n",
      "        while (tid < N) {\n",
      "            C[tid] = A[tid] + B[tid];\n",
      "            tid += 1;   // incrementamos en uno pues solo estamos usando un CPU\n",
      "        }\n",
      "    }\n",
      "    \n",
      "    int main()\n",
      "    {\n",
      "        ...\n",
      "        // Declaraci\u00f3n de variables\n",
      "        ...\n",
      "        \n",
      "        vecSumCPU(h_A, h_B, h_C, n);\n",
      "        ...\n",
      "    }"
     ]
    },
    {
     "cell_type": "markdown",
     "metadata": {
      "slideshow": {
       "slide_type": "subslide"
      }
     },
     "source": [
      "El _loop_ en la funci\u00f3n __vecSumCPU__ es una manera alternativa de escribir la instrucci\u00f3n \n",
      "\n",
      "    for (int i=0; i < n; i++) C[i] = A[i] + B[i];\n",
      "\n",
      "quiz\u00e1s m\u00e1s tradicional. Lo hemos presentado asi en el c\u00f3digo para explicitamente indicar que estamos utilizando un solo procesador para realizar las operaciones y que estas se llevan a caba de manera serial (o secuencial), es decir una despues de la otra.\n",
      "\n",
      "La siguiente celda muestra los resultados de ejecutar este sencillo programa:"
     ]
    },
    {
     "cell_type": "code",
     "collapsed": false,
     "input": [
      "!nvcc ../src/sumVecCPU.cu -o ../src/bin/sumVecCPU\n",
      "!../src/bin/sumVecCPU"
     ],
     "language": "python",
     "metadata": {
      "slideshow": {
       "slide_type": "subslide"
      }
     },
     "outputs": [
      {
       "output_type": "stream",
       "stream": "stdout",
       "text": [
        "../src/sumVecCPU.cu:4:22: fatal error: soporte.cu: No such file or directory\r\n",
        " #include \"soporte.cu\"\r\n",
        "                      ^\r\n",
        "compilation terminated.\r\n"
       ]
      },
      {
       "output_type": "stream",
       "stream": "stdout",
       "text": [
        "/bin/sh: 1: ../src/bin/sumVecCPU: not found\r\n"
       ]
      }
     ],
     "prompt_number": 7
    },
    {
     "cell_type": "markdown",
     "metadata": {
      "slideshow": {
       "slide_type": "subslide"
      }
     },
     "source": [
      "El programa completo contiene instrucciones adicionales para determinar los tiempos de ejecuci\u00f3n de cada una de las partes relevantes. El tiempo total de ejecuci\u00f3n, incluyendo asignaci\u00f3n de memoria para las variables y el llamado a la funci\u00f3n que realiza las operaciones, para vectores de longitud $n=25$ es de aproximadamente $0.2ms$ en un procesador Intel(R) Core(TM) i7-3770 CPU @ 3.40GHz con Ubuntu 13.10 (Linux 3.11.0-15-generic x86_64)."
     ]
    },
    {
     "cell_type": "markdown",
     "metadata": {
      "slideshow": {
       "slide_type": "slide"
      }
     },
     "source": [
      "###3. Ejercicios\n",
      "Ejecutar el c\u00f3digo para diferentes longitudes de vectores y observar que sucede con los tiempos de ejecuci\u00f3n. Determinar, por ejemplo \n",
      "\n",
      "* si el tiempo de ejecuci\u00f3n total incrementa de manera lineal con el numero de elementos del vector;\n",
      "* que partes de la ejecuci\u00f3n contribuyen m\u00e1s al tiempo total y como depende del num\u00e9ro de elementos.\n",
      "\n",
      "Se sugiere graficar los resultados en diversos formatos."
     ]
    },
    {
     "cell_type": "markdown",
     "metadata": {
      "slideshow": {
       "slide_type": "notes"
      }
     },
     "source": [
      "###4. Material adicional\n",
      "Puede encontrarse en el repositorio de estos cuadernos o ejecutando la siguiente celda."
     ]
    },
    {
     "cell_type": "code",
     "collapsed": false,
     "input": [
      "%load codes/sumVecCPU.cu"
     ],
     "language": "python",
     "metadata": {
      "slideshow": {
       "slide_type": "skip"
      }
     },
     "outputs": [],
     "prompt_number": 27
    },
    {
     "cell_type": "code",
     "collapsed": false,
     "input": [
      "from IPython.core.display import HTML\n",
      "def css_styling():\n",
      "    styles = open(\"./styles/custom.css\", \"r\").read()\n",
      "    return HTML(styles)\n",
      "css_styling()"
     ],
     "language": "python",
     "metadata": {
      "slideshow": {
       "slide_type": "skip"
      }
     },
     "outputs": [
      {
       "html": [
        "<style>\n",
        "    @font-face {\n",
        "        font-family: \"Computer Modern\";\n",
        "        src: url('http://mirrors.ctan.org/fonts/cm-unicode/fonts/otf/cmunss.otf');\n",
        "    }\n",
        "    div.cell{\n",
        "        width:800px;\n",
        "        margin-left:16% !important;\n",
        "        margin-right:auto;\n",
        "    }\n",
        "    h1 {\n",
        "        font-family: Helvetica, serif;\n",
        "    }\n",
        "    h2 {\n",
        "        font-family: Helvetica, serif;\n",
        "    }\n",
        "    h4{\n",
        "        margin-top:12px;\n",
        "        margin-bottom: 3px;\n",
        "       }\n",
        "    div.text_cell_render{\n",
        "        font-family: Computer Modern, \"Helvetica Neue\", Arial, Helvetica, Geneva, sans-serif;\n",
        "        line-height: 135%;\n",
        "        font-size: 120%;\n",
        "        width:600px;\n",
        "        margin-left:auto;\n",
        "        margin-right:auto;\n",
        "    }\n",
        "    .CodeMirror{\n",
        "            font-family: \"Source Code Pro\", source-code-pro,Consolas, monospace;\n",
        "    }\n",
        "/*    .prompt{\n",
        "        display: None;\n",
        "    }*/\n",
        "    .text_cell_render h5 {\n",
        "        font-weight: 300;\n",
        "        font-size: 16pt;\n",
        "        color: #4057A1;\n",
        "        font-style: italic;\n",
        "        margin-bottom: .5em;\n",
        "        margin-top: 0.5em;\n",
        "        display: block;\n",
        "    }\n",
        "    \n",
        "    .warning{\n",
        "        color: rgb( 240, 20, 20 )\n",
        "        }  \n",
        "</style>\n",
        "<script>\n",
        "    MathJax.Hub.Config({\n",
        "                        TeX: {\n",
        "                           extensions: [\"AMSmath.js\"]\n",
        "                           },\n",
        "                tex2jax: {\n",
        "                    inlineMath: [ ['$','$'], [\"\\\\(\",\"\\\\)\"] ],\n",
        "                    displayMath: [ ['$$','$$'], [\"\\\\[\",\"\\\\]\"] ]\n",
        "                },\n",
        "                displayAlign: 'center', // Change this to 'center' to center equations.\n",
        "                \"HTML-CSS\": {\n",
        "                    styles: {'.MathJax_Display': {\"margin\": 4}}\n",
        "                }\n",
        "        });\n",
        "</script>"
       ],
       "metadata": {},
       "output_type": "pyout",
       "prompt_number": 7,
       "text": [
        "<IPython.core.display.HTML at 0x4b5cf10>"
       ]
      }
     ],
     "prompt_number": 7
    }
   ],
   "metadata": {}
  }
 ]
}