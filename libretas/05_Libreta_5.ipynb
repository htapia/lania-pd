{
 "metadata": {
  "name": ""
 },
 "nbformat": 3,
 "nbformat_minor": 0,
 "worksheets": [
  {
   "cells": [
    {
     "cell_type": "markdown",
     "metadata": {},
     "source": [
      "#Computaci\u00f3n en GPUs con (py)CUDA\n",
      "\n",
      "##Libreta 5. Introducci\u00f3n a Python\n",
      "\n",
      "Parte del contenido de esta libreta se basa en el curso __CFD Python: 12 steps to Navier-Stokes__ que se encuentra en http://lorenabarba.com/blog/cfd-python-12-steps-to-navier-stokes.\n",
      "\n",
      "###Tabla de Contenidos:\n",
      "\n",
      "1. Difusi\u00f3n en 2D\n",
      "\n",
      "2. "
     ]
    },
    {
     "cell_type": "markdown",
     "metadata": {},
     "source": [
      "###1. Difusi\u00f3n en 2D\n",
      "\n",
      "En esta libreta introduciremos pyCUDA, y abordaremos un problema en 2D, donde podremos aprovechar el uso de multiples procesadores compatibles con CUDA y aprender sobre los diferentes espacios de memoria en el modelo de programaci\u00f3n de CUDA.\n",
      "\n",
      "Esta es la ecuaci\u00f3n de difusi\u00f3n en 2D:\n",
      "\n",
      "$$\\frac{\\partial u}{\\partial t} = \\alpha \\frac{\\partial^2 u}{\\partial x^2} + \\alpha \\frac{\\partial^2 u}{\\partial y^2}$$\n",
      "\n",
      "Esta puede discretizarse de la siguiente forma\n",
      "\n",
      "$$\\frac{u^{n+1}_{i,j}-u^n_{i,j}}{\\Delta t} = \\alpha \\frac{u^n_{i+1,j}-2u^n_{i,j}+u^n_{i-1,j}}{\\Delta x^2} + \\alpha \\frac{u^n_{i,j+1}-2u^n_{i,j}+u^n_{i,j-1}}{\\Delta y^2}$$\n",
      "\n",
      "que reorganizando permite resolver para $u^{n+1}_{i,j}$: \n",
      "\n",
      "$$u^{n+1}_{i,j} = u^n_{i,j} + \\frac{\\alpha \\Delta t}{\\Delta x^2}(u^n_{i+1,j}-2u^n_{i,j}+u^n_{i-1,j}) + \\frac{\\alpha \\Delta t}{\\Delta y^2}(u^n_{i,j+1}-2u^n_{i,j}+u^n_{i,j-1})$$\n",
      "\n",
      "Resolveremos el problema primero usando Python, despues CUDA y finalmente pyCUDA."
     ]
    },
    {
     "cell_type": "code",
     "collapsed": false,
     "input": [
      "import numpy as np\n",
      "import matplotlib.pyplot as plt\n",
      "from mpl_toolkits.mplot3d import Axes3D \n",
      "from matplotlib import cm\n",
      "\n",
      "nx = 64\n",
      "ny = 64\n",
      "\n",
      "alpha = 0.645\n",
      "dx = 3.5/(nx-1)\n",
      "dy = 3.5/(ny-1)\n",
      "sigma = 0.25\n",
      "dt = sigma*dx*dx/alpha\n",
      "\n",
      "print dt\n",
      "\n",
      "x = np.linspace(0,3.5,nx)\n",
      "y = np.linspace(0,3.5,ny)\n",
      "X,Y = np.meshgrid(x,y)\n",
      "\n",
      "u = np.zeros((ny,nx))\n",
      "un = np.zeros((ny,nx))\n",
      "\n",
      "u[0,:]=200\n",
      "# u[-1,:]=0\n",
      "u[:,0]=200\n",
      "# u[:,-1]=0\n",
      "\n",
      "plt.pcolormesh(X,Y,u[:], cmap=cm.gnuplot)\n",
      "plt.axes().set_aspect('equal', 'box')\n",
      "plt.show()"
     ],
     "language": "python",
     "metadata": {},
     "outputs": [
      {
       "output_type": "stream",
       "stream": "stdout",
       "text": [
        "0.001196286726\n"
       ]
      },
      {
       "metadata": {},
       "output_type": "display_data",
       "png": "[encoded data removed]",
       "text": [
        "<matplotlib.figure.Figure at 0x33ce350>"
       ]
      }
     ],
     "prompt_number": 33
    },
    {
     "cell_type": "markdown",
     "metadata": {},
     "source": [
      "Definiremos una funci\u00f3n en  Python que se encargar\u00e1 de las operaciones para determinar la evoluci\u00f3n de la condici\u00f3n inicial:"
     ]
    },
    {
     "cell_type": "code",
     "collapsed": false,
     "input": [
      "import numpy as np\n",
      "import matplotlib.pyplot as plt\n",
      "from mpl_toolkits.mplot3d import Axes3D \n",
      "from matplotlib import cm\n",
      "\n",
      "def diffuse(nt,nx,ny, bool_plot):\n",
      "    \n",
      "    alpha = 0.645\n",
      "    dx = 3.5/(nx-1)\n",
      "    dy = 3.5/(ny-1)\n",
      "    sigma = 0.25\n",
      "    dt = sigma*dx*dx/alpha\n",
      "    u = np.zeros((ny,nx))\n",
      "    \n",
      "    for n in range(nt+1): \n",
      "        un = u.copy()\n",
      "        u[1:-1,1:-1]=un[1:-1,1:-1]+alpha*dt/dx**2*(un[2:,1:-1]-2*un[1:-1,1:-1]+un[0:-2,1:-1])+alpha*dt/dy**2*(un[1:-1,2:]-2*un[1:-1,1:-1]+un[1:-1,0:-2])\n",
      "        u[0,:]=200\n",
      "        u[-1,:]=0\n",
      "        u[:,0]=200\n",
      "        u[:,-1]=0\n",
      "    \n",
      "    if bool_plot==1:\n",
      "        x = np.linspace(0,3.5,nx)\n",
      "        y = np.linspace(0,3.5,ny)\n",
      "        X,Y = np.meshgrid(x,y)\n",
      "\n",
      "        surf = plt.pcolormesh(X,Y,u[:], cmap=cm.gnuplot)\n",
      "        plt.axes().set_aspect('equal', 'box')\n",
      "        plt.show()\n",
      "\n",
      "    \n",
      "#     fig = plt.figure()\n",
      "#     ax = fig.gca(projection='3d')\n",
      "#     surf = ax.plot_surface(X,Y,u[:], rstride=1, cstride=1, cmap=cm.coolwarm,\n",
      "#         linewidth=0, antialiased=True)\n",
      "#     ax.set_zlim(1,2.5)\n",
      "    \n",
      "#     plt.show()\n",
      "# [diffuse(10),diffuse(14),diffuse(50)];"
     ],
     "language": "python",
     "metadata": {},
     "outputs": [],
     "prompt_number": 3
    },
    {
     "cell_type": "code",
     "collapsed": false,
     "input": [
      "diffuse(0,64,64,1)"
     ],
     "language": "python",
     "metadata": {},
     "outputs": [
      {
       "metadata": {},
       "output_type": "display_data",
       "png": "[encoded data removed]",
       "text": [
        "<matplotlib.figure.Figure at 0x40379d0>"
       ]
      }
     ],
     "prompt_number": 8
    },
    {
     "cell_type": "code",
     "collapsed": false,
     "input": [
      "diffuse(100,64,64,1)"
     ],
     "language": "python",
     "metadata": {},
     "outputs": [
      {
       "metadata": {},
       "output_type": "display_data",
       "png": "[encoded data removed]",
       "text": [
        "<matplotlib.figure.Figure at 0x400b1d0>"
       ]
      }
     ],
     "prompt_number": 9
    },
    {
     "cell_type": "code",
     "collapsed": false,
     "input": [],
     "language": "python",
     "metadata": {},
     "outputs": []
    },
    {
     "cell_type": "markdown",
     "metadata": {},
     "source": [
      "###4. Material adicional\n",
      "Presentamos parte del curso de donde se ha obtenido el contenido de \u00e9sta libreta."
     ]
    },
    {
     "cell_type": "markdown",
     "metadata": {},
     "source": [
      "####GPU programming using CUDA Lecture 1"
     ]
    },
    {
     "cell_type": "code",
     "collapsed": false,
     "input": [
      "from IPython.core.display import HTML\n",
      "HTML(\"<iframe src='http://www.bu.edu/pasi/files/2011/07/Lecture2.pdf' width='750' height='600'></iframe>\")"
     ],
     "language": "python",
     "metadata": {},
     "outputs": [
      {
       "html": [
        "<iframe src='http://www.bu.edu/pasi/files/2011/07/Lecture2.pdf' width='750' height='600'></iframe>"
       ],
       "metadata": {},
       "output_type": "pyout",
       "prompt_number": 2,
       "text": [
        "<IPython.core.display.HTML at 0x3b68910>"
       ]
      }
     ],
     "prompt_number": 2
    },
    {
     "cell_type": "code",
     "collapsed": false,
     "input": [
      "from IPython.core.display import HTML\n",
      "def css_styling():\n",
      "    styles = open(\"./styles/custom.css\", \"r\").read()\n",
      "    return HTML(styles)\n",
      "css_styling()"
     ],
     "language": "python",
     "metadata": {},
     "outputs": [
      {
       "html": [
        "<style>\n",
        "    @font-face {\n",
        "        font-family: \"Computer Modern\";\n",
        "        src: url('http://mirrors.ctan.org/fonts/cm-unicode/fonts/otf/cmunss.otf');\n",
        "    }\n",
        "    div.cell{\n",
        "        width:800px;\n",
        "        margin-left:16% !important;\n",
        "        margin-right:auto;\n",
        "    }\n",
        "    h1 {\n",
        "        font-family: Helvetica, serif;\n",
        "    }\n",
        "    h2 {\n",
        "        font-family: Helvetica, serif;\n",
        "    }\n",
        "    h4{\n",
        "        margin-top:12px;\n",
        "        margin-bottom: 3px;\n",
        "       }\n",
        "    div.text_cell_render{\n",
        "        font-family: Computer Modern, \"Helvetica Neue\", Arial, Helvetica, Geneva, sans-serif;\n",
        "        line-height: 135%;\n",
        "        font-size: 120%;\n",
        "        width:600px;\n",
        "        margin-left:auto;\n",
        "        margin-right:auto;\n",
        "    }\n",
        "    .CodeMirror{\n",
        "            font-family: \"Source Code Pro\", source-code-pro,Consolas, monospace;\n",
        "    }\n",
        "/*    .prompt{\n",
        "        display: None;\n",
        "    }*/\n",
        "    .text_cell_render h5 {\n",
        "        font-weight: 300;\n",
        "        font-size: 16pt;\n",
        "        color: #4057A1;\n",
        "        font-style: italic;\n",
        "        margin-bottom: .5em;\n",
        "        margin-top: 0.5em;\n",
        "        display: block;\n",
        "    }\n",
        "    \n",
        "    .warning{\n",
        "        color: rgb( 240, 20, 20 )\n",
        "        }  \n",
        "</style>\n",
        "<script>\n",
        "    MathJax.Hub.Config({\n",
        "                        TeX: {\n",
        "                           extensions: [\"AMSmath.js\"]\n",
        "                           },\n",
        "                tex2jax: {\n",
        "                    inlineMath: [ ['$','$'], [\"\\\\(\",\"\\\\)\"] ],\n",
        "                    displayMath: [ ['$$','$$'], [\"\\\\[\",\"\\\\]\"] ]\n",
        "                },\n",
        "                displayAlign: 'center', // Change this to 'center' to center equations.\n",
        "                \"HTML-CSS\": {\n",
        "                    styles: {'.MathJax_Display': {\"margin\": 4}}\n",
        "                }\n",
        "        });\n",
        "</script>"
       ],
       "metadata": {},
       "output_type": "pyout",
       "prompt_number": 7,
       "text": [
        "<IPython.core.display.HTML at 0x4b5cf10>"
       ]
      }
     ],
     "prompt_number": 7
    }
   ],
   "metadata": {}
  }
 ]
}