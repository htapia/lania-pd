{
 "metadata": {
  "name": ""
 },
 "nbformat": 3,
 "nbformat_minor": 0,
 "worksheets": [
  {
   "cells": [
    {
     "cell_type": "markdown",
     "metadata": {},
     "source": [
      "# Readme for pd\n",
      "\n",
      "#C\u00f3mputo Cient\u00edfico de Alto Rendimiento con Python\n",
      "\n",
      "Con base en los recursos que se anexan, preparar un curso de computaci\u00f3n cient\u00edfica usando Python, con aplicaciones de las \u00e1reas t\u00e9cnicas que me interesan, medios granulares y fluidos, an\u00e1lisis de im\u00e1genes y datos, etc y con \u00e9nfasis en el (multi)paralelismo y c\u00f3mputo de alto rendimiento.\n",
      "\n",
      "* Este sitio tiene un curso completo que habria que ver con detalle: http://idl.utsa.edu/me5013/lessons/\n",
      "* El curso de CFD de Lorena A. Barba que tengo forkeado en github tambien\n",
      "* Tambien en github tengo forkeado otro curso de sceintific python http://scipy-lectures.github.io/\n",
      "* Siempre es importante aprender de los que hicieron las cosas: http://neutrons.ornl.gov/conf/nobugs2010/Tuesday%20Morning/NOBUGS41_Oliphant.pdf\n",
      "* http://andy.terrel.us/blog/2012/09/27/starting-with-python/\n",
      "* Learning the hard way: http://learnpythonthehardway.org/book/\n",
      "* Livermore Lab training material: https://computing.llnl.gov/?set=training&page=index\n",
      "    * https://computing.llnl.gov/tutorials/parallel_comp/\n",
      "    * https://computing.llnl.gov/tutorials/python/sci_python.pdf\n",
      "\n",
      "\n",
      "\n",
      "\n",
      "## TOC tentativo\n",
      "    \n",
      "1. Introducci\u00f3n a Python\n",
      "2. Numpy y arreglos\n",
      "3. Graficando con matplotlib\n",
      "4. Paralelismo\n",
      "5. pyCUDA\n",
      "    * http://documen.tician.de/pycuda/tutorial.html\n",
      "    * http://www.tsc.uc3m.es/~miguel/MLG/adjuntos/slidesCUDA.pdf\n",
      "    * http://physics.gu.se/~einarssj/teaching/pycuda2012/PyCUDA_crashcourse2_split.pdf\n",
      "    * http://idl.utsa.edu/me5013/files/2012/12/PyCUDA.pdf\n",
      "    * Especifico de CUDA pero se pueden sacar ideas de ahi:\n",
      "        * http://www.epcc.ed.ac.uk/online-training/learnCUDA\n",
      "        * http://www2.epcc.ed.ac.uk/~alang/learnCUDApractical.pdf\n",
      "        * http://www2.epcc.ed.ac.uk/~alang/learnCUDAslides.pdf\n",
      "    * http://www.training.prace-ri.eu/uploads/tx_pracetmo/CUDAProg.pdf\n",
      "    \n",
      "    \n",
      "6. Otros numbapro, theano\n",
      "    * http://deeplearning.net/software/theano/tutorial/using_gpu.html\n",
      "    * http://www.accelereyes.com/\n",
      "    "
     ]
    },
    {
     "cell_type": "markdown",
     "metadata": {},
     "source": [
      "## Landslides\n",
      "Aqui hay un chorro de publicaciones que hay que ver con calma\n",
      "\n",
      "http://www.nhazca.it/?page_id=1033&lang=en"
     ]
    },
    {
     "cell_type": "markdown",
     "metadata": {},
     "source": [
      "## Granular flow ideas\n",
      "\n",
      "* The stochastic flow rule SFR:\n",
      "    * http://www.ncbi.nlm.nih.gov/pubmed/17500886\n",
      "    * http://arxiv.org/pdf/cond-mat/0609448.pdf\n",
      "    * http://math.berkeley.edu/~chr/publish/rycroft_phd_chap6.pdf\n",
      "* "
     ]
    },
    {
     "cell_type": "markdown",
     "metadata": {},
     "source": [
      "##Software for simulations\n",
      "\n",
      "* http://www.esss.com.br/software_ansys.php\n",
      "* liggghts\n",
      "* esys-particle\n",
      "* mfix\n",
      "* http://physics.weber.edu/schroeder/fluids/\n",
      "\n"
     ]
    },
    {
     "cell_type": "markdown",
     "metadata": {},
     "source": [
      "### Completely unrelated\n",
      "but probably useful later\n",
      "\n",
      "* http://kenmankoff.com/2012/05/01/reading-data-from-kinect-libfreenect-record/"
     ]
    }
   ],
   "metadata": {}
  }
 ]
}