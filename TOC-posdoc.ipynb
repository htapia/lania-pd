{
 "metadata": {
  "name": ""
 },
 "nbformat": 3,
 "nbformat_minor": 0,
 "worksheets": [
  {
   "cells": [
    {
     "cell_type": "heading",
     "level": 2,
     "metadata": {},
     "source": [
      "Table of Contents"
     ]
    },
    {
     "cell_type": "markdown",
     "metadata": {},
     "source": [
      "0. Introducci\u00f3n\n",
      "\n",
      "1. Implementaci\u00f3n de pruebas de rendimiento (benchmarks) en infraestructura existente:\n",
      "\n",
      "    1. Revisi\u00f3n bibliogr\u00e1fica\n",
      "\n",
      "    2. CUDA C\n",
      "    \n",
      "    3. Operaciones aritm\u00e9ticas b\u00e1sicas\n",
      "    \n",
      "    4. Generaci\u00f3n de n\u00fameros aleatorios\n",
      "    \n",
      "    5. Algebra Lineal\n",
      "    \n",
      "    6. Gr\u00e1ficas y visualizaci\u00f3n\n",
      "\n",
      "2. Aplicaciones con infraestructura existente\n",
      "\n",
      "    1. Simulaciones num\u00e9ricas de fluidos\n",
      "    \n",
      "    2. An\u00e1lisis de datos\n",
      "    \n",
      "3. Evaluaci\u00f3n de estructuras digitales (frameworks)\t\n",
      "\n",
      "    1. Evaluaci\u00f3n de necesidades\n",
      "    \n",
      "\t2. Revisi\u00f3n bibliogr\u00e1fica\n",
      "    \n",
      "\t3. Implementaci\u00f3n de estructuras\n",
      "    \n",
      "\t4. Pruebas de estructuras\n",
      "    \n",
      "4. Preparaci\u00f3n de material did\u00e1ctico\n",
      "   \n",
      "    1. Documentaci\u00f3n de actividades\n"
     ]
    },
    {
     "cell_type": "code",
     "collapsed": false,
     "input": [
      "%load README.md"
     ],
     "language": "python",
     "metadata": {},
     "outputs": [],
     "prompt_number": 1
    },
    {
     "cell_type": "code",
     "collapsed": false,
     "input": [
      "%%%file README.md\n",
      "# Dr. Horacio Tapia-McClung\n",
      "## PostDoctoral Research @ LANIA\n",
      "### Notebooks on scientific computing with CUDA (and Python)\n",
      "============================================================\n",
      "\n",
      "A set of notebooks on the use of CUDA with Python, using IPython notebooks.\n",
      "\n",
      "To open these notebooks in IPython, download the files to a directory on your computer and from that directory run:\n",
      "\n",
      "    $ ipython notebook\n",
      "\n",
      "This will open a new page in your browser with a list of the available notebooks.\n",
      "\n",
      "TOC\n",
      "===\n",
      "1. Introducci\u00f3n\n",
      "    0. Infraestructura existente.\n",
      "    1. El modelo de programaci\u00f3n de CUDA\n",
      "    3. Mediciones de rendimiento\n",
      "    \n",
      "2. Python y PyCUDA\n",
      "    1. El m\u00f3dulo PyCUDA\n",
      "    2. Ejemplos \n",
      "    3. Mediciones de rendimiento\n",
      "    \n",
      "3. Aplicaciones\n",
      "\n",
      "Online read-only versions\n",
      "=========================\n",
      "\n",
      "Use the following links:\n",
      "\n",
      "* [N-0 Introducci\u00f3n] 00_Introducci\u00f3n\n",
      "* [N-1 Infraestructura Existente] 01_InfraExistente\n",
      "\n",
      "* [N-2 Modelo de Programaci\u00f3n de CUDA] 02_ModeloCUDA\n",
      "* [N-2-1 Modelo de Programaci\u00f3n de CUDA] 02_ModeloCUDA-1\n",
      "* [N-2-2 Modelo de Programaci\u00f3n de CUDA] 02_ModeloCUDA-2\n",
      "* [N-2-3 Modelo de Programaci\u00f3n de CUDA] 02_ModeloCUDA-3\n",
      "* [N-2-4 Modelo de Programaci\u00f3n de CUDA] 02_ModeloCUDA-4\n",
      "\n",
      "* [N-3 Modelo de Programaci\u00f3n de CUDA] 02_ModeloCUDA-4\n",
      "\n",
      "* [N-3 Numpy - multidimensional data arrays](http://nbviewer.ipython.org/urls/raw.github.com/jrjohansson/scientific-python-lectures/master/Lecture-2-Numpy.ipynb)\n",
      "* [Lecture-3 Scipy - Library of scientific algorithms](http://nbviewer.ipython.org/urls/raw.github.com/jrjohansson/scientific-python-lectures/master/Lecture-3-Scipy.ipynb)\n",
      "* [Lecture-4 Matplotlib - 2D and 3D plotting](http://nbviewer.ipython.org/urls/raw.github.com/jrjohansson/scientific-python-lectures/master/Lecture-4-Matplotlib.ipynb)\n",
      "* [Lecture-5 Sympy - Symbolic algebra](http://nbviewer.ipython.org/urls/raw.github.com/jrjohansson/scientific-python-lectures/master/Lecture-5-Sympy.ipynb)\n",
      "* [Lecture-6A C and Fortran integration](http://nbviewer.ipython.org/urls/raw.github.com/jrjohansson/scientific-python-lectures/master/Lecture-6A-Fortran-and-C.ipynb)\n",
      "* [Lecture-6B HPC](http://nbviewer.ipython.org/urls/raw.github.com/jrjohansson/scientific-python-lectures/master/Lecture-6B-HPC.ipynb)\n",
      "* [Lecture-7 Revision Control Software](http://nbviewer.ipython.org/urls/raw.github.com/jrjohansson/scientific-python-lectures/master/Lecture-7-Revision-Control-Software.ipynb)\n",
      "\n",
      "\n",
      "License\n",
      "=======\n",
      "\n",
      "This work is licensed under a [Creative Commons Attribution 3.0 Unported License.](http://creativecommons.org/licenses/by/3.0/)"
     ],
     "language": "python",
     "metadata": {},
     "outputs": []
    },
    {
     "cell_type": "code",
     "collapsed": false,
     "input": [],
     "language": "python",
     "metadata": {},
     "outputs": []
    }
   ],
   "metadata": {}
  }
 ]
}